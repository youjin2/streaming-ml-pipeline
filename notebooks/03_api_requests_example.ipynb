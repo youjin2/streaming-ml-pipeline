{
 "cells": [
  {
   "cell_type": "code",
   "execution_count": 1,
   "id": "0d96909a",
   "metadata": {},
   "outputs": [],
   "source": [
    "import sys\n",
    "sys.path.append(\"../\")"
   ]
  },
  {
   "cell_type": "code",
   "execution_count": 2,
   "id": "416553cb",
   "metadata": {},
   "outputs": [],
   "source": [
    "import json\n",
    "import requests\n",
    "\n",
    "import pandas as pd\n",
    "\n",
    "from src.pipeline.data import (\n",
    "    read_ford_data,\n",
    "    split_train_test\n",
    ")"
   ]
  },
  {
   "cell_type": "code",
   "execution_count": null,
   "id": "bd6eba9a",
   "metadata": {},
   "outputs": [],
   "source": []
  },
  {
   "cell_type": "markdown",
   "id": "86e84e03",
   "metadata": {},
   "source": [
    "## make sample data"
   ]
  },
  {
   "cell_type": "code",
   "execution_count": 3,
   "id": "c69a82f4",
   "metadata": {},
   "outputs": [],
   "source": [
    "data = read_ford_data()\n",
    "train_data, test_data = split_train_test(data, test_size=0.2, seed=1234)"
   ]
  },
  {
   "cell_type": "code",
   "execution_count": 4,
   "id": "2205acf7",
   "metadata": {},
   "outputs": [
    {
     "name": "stdout",
     "output_type": "stream",
     "text": [
      "model: ['C-MAX', 'EcoSport', 'Fiesta', 'Grand C-MAX', 'Kuga']\n",
      "year: [2014, 2019, 2016, 2018, 2017]\n",
      "price: [8295, 18995, 9470, 15970, 17000]\n",
      "transmission: ['Semi-Auto', 'Automatic', 'Manual', 'Semi-Auto', 'Manual']\n",
      "mileage: [40000, 1400, 16795, 1587, 19900]\n",
      "fuelType: ['Diesel', 'Petrol', 'Petrol', 'Diesel', 'Petrol']\n",
      "tax: [160, 150, 0, 150, 145]\n",
      "mpg: [50.4, 44.1, 65.7, 51.4, 45.6]\n",
      "engineSize: [2.0, 1.0, 1.0, 1.5, 1.5]\n"
     ]
    }
   ],
   "source": [
    "\"\"\"\n",
    "We don't have to pop price column for api request\n",
    "(ColumnTransformer ignores undefined columns automatically)\n",
    "\"\"\"\n",
    "\n",
    "samples = train_data.head(5).to_dict(orient=\"list\")\n",
    "for k, v in samples.items():\n",
    "    print(f\"{k}: {v}\")"
   ]
  },
  {
   "cell_type": "code",
   "execution_count": null,
   "id": "1a0fd226",
   "metadata": {},
   "outputs": [],
   "source": []
  },
  {
   "cell_type": "code",
   "execution_count": null,
   "id": "83f446c3",
   "metadata": {},
   "outputs": [],
   "source": []
  },
  {
   "cell_type": "markdown",
   "id": "bf217a9b",
   "metadata": {},
   "source": [
    "## api request"
   ]
  },
  {
   "cell_type": "code",
   "execution_count": 5,
   "id": "7988d715",
   "metadata": {},
   "outputs": [],
   "source": [
    "entrypoint = \"http://0.0.0.0:3000/predict\""
   ]
  },
  {
   "cell_type": "code",
   "execution_count": 6,
   "id": "b0b29af0",
   "metadata": {},
   "outputs": [
    {
     "name": "stdout",
     "output_type": "stream",
     "text": [
      "status: 200\n",
      "output: [8506.8203125, 17892.189453125, 9297.3623046875, 16528.8359375, 14612.4453125]\n"
     ]
    }
   ],
   "source": [
    "response = requests.post(\n",
    "    entrypoint,\n",
    "    data=json.dumps(samples),\n",
    "    headers={\"content-type\": \"application/json\"}\n",
    ")\n",
    "\n",
    "print(f\"status: {response.status_code}\")\n",
    "print(f\"output: {json.loads(response.text)}\")"
   ]
  },
  {
   "cell_type": "code",
   "execution_count": null,
   "id": "b7269bf6",
   "metadata": {},
   "outputs": [],
   "source": []
  },
  {
   "cell_type": "code",
   "execution_count": null,
   "id": "d91177d1",
   "metadata": {},
   "outputs": [],
   "source": []
  },
  {
   "cell_type": "code",
   "execution_count": null,
   "id": "4f2ed411",
   "metadata": {},
   "outputs": [],
   "source": []
  },
  {
   "cell_type": "code",
   "execution_count": null,
   "id": "d789dfff",
   "metadata": {},
   "outputs": [],
   "source": []
  },
  {
   "cell_type": "code",
   "execution_count": null,
   "id": "a98b3a45",
   "metadata": {},
   "outputs": [],
   "source": []
  }
 ],
 "metadata": {
  "kernelspec": {
   "display_name": "Python 3 (ipykernel)",
   "language": "python",
   "name": "python3"
  },
  "language_info": {
   "codemirror_mode": {
    "name": "ipython",
    "version": 3
   },
   "file_extension": ".py",
   "mimetype": "text/x-python",
   "name": "python",
   "nbconvert_exporter": "python",
   "pygments_lexer": "ipython3",
   "version": "3.9.12"
  }
 },
 "nbformat": 4,
 "nbformat_minor": 5
}
