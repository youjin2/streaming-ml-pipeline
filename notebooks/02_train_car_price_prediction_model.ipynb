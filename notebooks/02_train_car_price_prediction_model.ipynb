{
 "cells": [
  {
   "cell_type": "code",
   "execution_count": 2,
   "id": "507c334e",
   "metadata": {},
   "outputs": [],
   "source": [
    "import os\n",
    "\n",
    "import pandas as pd\n",
    "import numpy as np\n",
    "\n",
    "from sklearn.impute import SimpleImputer\n",
    "from sklearn.compose import ColumnTransformer\n",
    "from sklearn.preprocessing import (\n",
    "    FunctionTransformer,\n",
    "    StandardScaler,\n",
    "    OneHotEncoder\n",
    ")\n",
    "from sklearn.pipeline import Pipeline\n",
    "from sklearn.metrics import mean_squared_error, mean_absolute_error\n",
    "from sklearn.model_selection import train_test_split\n",
    "from xgboost import XGBRegressor\n",
    "\n",
    "import bentoml"
   ]
  },
  {
   "cell_type": "code",
   "execution_count": 31,
   "id": "335f441e",
   "metadata": {},
   "outputs": [],
   "source": [
    "data = pd.read_csv(\"../data/ford.csv\")\n",
    "data[\"model\"] = data.model.str.strip(\" \")"
   ]
  },
  {
   "cell_type": "code",
   "execution_count": 41,
   "id": "81f960e7",
   "metadata": {},
   "outputs": [],
   "source": [
    "train_data, test_data = train_test_split(data, test_size=0.2, random_state=1234)"
   ]
  },
  {
   "cell_type": "code",
   "execution_count": 50,
   "id": "14ca980d",
   "metadata": {},
   "outputs": [
    {
     "name": "stdout",
     "output_type": "stream",
     "text": [
      "Fiesta = 0.3647\n",
      "Focus = 0.2567\n",
      "Kuga = 0.1242\n",
      "EcoSport = 0.0626\n",
      "C-MAX = 0.0298\n",
      "Mondeo = 0.0294\n",
      "Ka+ = 0.0290\n",
      "B-MAX = 0.0195\n",
      "S-MAX = 0.0164\n",
      "Grand C-MAX = 0.0140\n",
      "Galaxy = 0.0128\n",
      "Edge = 0.0116\n",
      "KA = 0.0104\n",
      "Tourneo Custom = 0.0044\n",
      "Puma = 0.0043\n",
      "Grand Tourneo Connect = 0.0035\n",
      "Mustang = 0.0034\n",
      "Tourneo Connect = 0.0018\n",
      "Fusion = 0.0010\n",
      "Streetka = 0.0001\n",
      "Ranger = 0.0001\n",
      "Escort = 0.0001\n"
     ]
    }
   ],
   "source": [
    "'''\n",
    "replace model categories with their corresponding frequencies in train data\n",
    "- will be saved and used for serving?\n",
    "'''\n",
    "\n",
    "model_replace_rules = (train_data.model.value_counts() / len(train_data)).to_dict()\n",
    "for k, v in model_replace_rules.items():\n",
    "    print(f\"{k} = {v:0.4f}\")"
   ]
  },
  {
   "cell_type": "code",
   "execution_count": 53,
   "id": "be0a4272",
   "metadata": {},
   "outputs": [
    {
     "data": {
      "text/plain": [
       "Petrol      9722\n",
       "Diesel      4628\n",
       "Hybrid        19\n",
       "Electric       2\n",
       "Other          1\n",
       "Name: fuelType, dtype: int64"
      ]
     },
     "execution_count": 53,
     "metadata": {},
     "output_type": "execute_result"
    }
   ],
   "source": [
    "train_data.fuelType.value_counts()"
   ]
  },
  {
   "cell_type": "code",
   "execution_count": 57,
   "id": "fc7fa9ea",
   "metadata": {},
   "outputs": [
    {
     "data": {
      "text/plain": [
       "Manual       12392\n",
       "Automatic     1108\n",
       "Semi-Auto      872\n",
       "Name: transmission, dtype: int64"
      ]
     },
     "execution_count": 57,
     "metadata": {},
     "output_type": "execute_result"
    }
   ],
   "source": [
    "train_data.transmission.value_counts()"
   ]
  },
  {
   "cell_type": "code",
   "execution_count": null,
   "id": "53d1f667",
   "metadata": {},
   "outputs": [],
   "source": []
  },
  {
   "cell_type": "code",
   "execution_count": 56,
   "id": "59f46f48",
   "metadata": {},
   "outputs": [],
   "source": [
    "'''\n",
    "Input: mileage\n",
    "Transform: log(1+x) => standard scaling\n",
    "'''\n",
    "\n",
    "mileage_transformer = Pipeline([\n",
    "    (\"Log1P\", FunctionTransformer(np.log1p)),\n",
    "    (\"Scaler\", StandardScaler())\n",
    "])"
   ]
  },
  {
   "cell_type": "code",
   "execution_count": 58,
   "id": "94e46ebc",
   "metadata": {},
   "outputs": [],
   "source": [
    "'''\n",
    "Input: transmission\n",
    "Transform: OneHotEncode\n",
    "- handle_unknown = 'ignore' => encode data never has been observed to zeros\n",
    "'''\n",
    "\n",
    "transmission_transformer = OneHotEncoder(handle_unknown=\"ignore\", sparse=False)"
   ]
  },
  {
   "cell_type": "code",
   "execution_count": null,
   "id": "d88ea815",
   "metadata": {},
   "outputs": [],
   "source": []
  },
  {
   "cell_type": "code",
   "execution_count": null,
   "id": "26a18deb",
   "metadata": {},
   "outputs": [],
   "source": [
    "'''\n",
    "Input: fuelType\n",
    "Transform: Imputer => OntHotEncode\n",
    "- impute \"Electric\", \"Hybrid\" and \"Other\" \n",
    "'''\n",
    "\n",
    "# Replace the fuelType \"Electric\" or \"Hybrid\" with \"other\"\n",
    "# and OneHotEncoder will ignore it.\n",
    "# This is a small trick to implement the frequency encoder\n",
    "Pipeline(\n",
    "    [\n",
    "        (\n",
    "            f\"inputer_{d}\",\n",
    "            SimpleImputer(\n",
    "                missing_values=d,\n",
    "                strategy=\"constant\",\n",
    "                fill_value=\"other\"\n",
    "            )\n",
    "        )\n",
    "        for d in DROP_FUEL_TYPE\n",
    "    ]+[\n",
    "        (\n",
    "            \"OneHotEncoder\",\n",
    "            OneHotEncoder(\n",
    "                handle_unknown=\"ignore\",\n",
    "                sparse=False\n",
    "            ),\n",
    "        )\n",
    "    ]\n",
    "),"
   ]
  },
  {
   "cell_type": "code",
   "execution_count": null,
   "id": "48584e11",
   "metadata": {},
   "outputs": [],
   "source": []
  },
  {
   "cell_type": "code",
   "execution_count": null,
   "id": "0917cf00",
   "metadata": {},
   "outputs": [],
   "source": []
  },
  {
   "cell_type": "code",
   "execution_count": null,
   "id": "b9708e25",
   "metadata": {},
   "outputs": [],
   "source": []
  },
  {
   "cell_type": "code",
   "execution_count": 29,
   "id": "f3fe0603",
   "metadata": {},
   "outputs": [
    {
     "data": {
      "text/plain": [
       "array(['Fiesta', 'Focus', 'Puma', 'Kuga', 'EcoSport', 'C-MAX', 'Mondeo',\n",
       "       'Ka+', 'Tourneo Custom', 'S-MAX', 'B-MAX', 'Edge',\n",
       "       'Tourneo Connect', 'Grand C-MAX', 'KA', 'Galaxy', 'Mustang',\n",
       "       'Grand Tourneo Connect', 'Fusion', 'Ranger', 'Streetka', 'Escort',\n",
       "       'Transit Tourneo'], dtype=object)"
      ]
     },
     "execution_count": 29,
     "metadata": {},
     "output_type": "execute_result"
    }
   ],
   "source": [
    "data.model.str.strip(\" \").unique()"
   ]
  },
  {
   "cell_type": "code",
   "execution_count": 24,
   "id": "1dab1142",
   "metadata": {},
   "outputs": [
    {
     "data": {
      "text/plain": [
       "array(['Automatic', 'Manual', 'Semi-Auto'], dtype=object)"
      ]
     },
     "execution_count": 24,
     "metadata": {},
     "output_type": "execute_result"
    }
   ],
   "source": [
    "data.transmission.unique()"
   ]
  },
  {
   "cell_type": "code",
   "execution_count": 27,
   "id": "f16a8bc0",
   "metadata": {
    "scrolled": true
   },
   "outputs": [
    {
     "data": {
      "text/plain": [
       "array(['Petrol', 'Diesel', 'Hybrid', 'Electric', 'Other'], dtype=object)"
      ]
     },
     "execution_count": 27,
     "metadata": {},
     "output_type": "execute_result"
    }
   ],
   "source": [
    "data.fuelType.unique()"
   ]
  },
  {
   "cell_type": "code",
   "execution_count": null,
   "id": "d25a574f",
   "metadata": {},
   "outputs": [],
   "source": []
  },
  {
   "cell_type": "code",
   "execution_count": null,
   "id": "7ea41496",
   "metadata": {},
   "outputs": [],
   "source": [
    "# Define the transformer pipeline for the dataframe\n",
    "feature_eng_tfm = ColumnTransformer(\n",
    "    [\n",
    "        (\n",
    "            \"Mileage\",\n",
    "            Pipeline([\n",
    "                (\"Log1P\", FunctionTransformer(np.log1p)),\n",
    "                (\"Scaler\", StandardScaler())\n",
    "            ]),\n",
    "            [\"mileage\"]\n",
    "        ),\n",
    "        (\n",
    "            \"transmission\",\n",
    "            OneHotEncoder(\n",
    "                handle_unknown=\"ignore\",\n",
    "                sparse=False\n",
    "            ),\n",
    "            [\"transmission\"]\n",
    "        ),\n",
    "        (\n",
    "            \"fuelType\",\n",
    "            # Replace the fuelType \"Electric\" or \"Hybrid\" with \"other\"\n",
    "            # and OneHotEncoder will ignore it.\n",
    "            # This is a small trick to implement the frequency encoder\n",
    "            Pipeline(\n",
    "                [\n",
    "                    (\n",
    "                        f\"inputer_{d}\",\n",
    "                        SimpleImputer(\n",
    "                            missing_values=d,\n",
    "                            strategy=\"constant\",\n",
    "                            fill_value=\"other\"\n",
    "                        )\n",
    "                    )\n",
    "                    for d in DROP_FUEL_TYPE\n",
    "                ]+[\n",
    "                    (\n",
    "                        \"OneHotEncoder\",\n",
    "                        OneHotEncoder(\n",
    "                            handle_unknown=\"ignore\",\n",
    "                            sparse=False\n",
    "                        ),\n",
    "                    )\n",
    "                ]\n",
    "            ),\n",
    "            [\"fuelType\"]\n",
    "        ),\n",
    "        (\n",
    "            \"model\",\n",
    "            # replace model with the corresponding frequency in MODEL_REPLACE_RULES\n",
    "            Pipeline(\n",
    "                [\n",
    "                    (\n",
    "                        f\"inputer_{column_value}\",\n",
    "                        SimpleImputer(\n",
    "                            missing_values=column_value,\n",
    "                            strategy=\"constant\",\n",
    "                            fill_value=value\n",
    "                        )\n",
    "                    )\n",
    "                    for column_value, value\n",
    "                    in MODEL_REPLACE_RULES.items()\n",
    "                ]\n",
    "            ),\n",
    "            [\"model\"]\n",
    "        ),\n",
    "        (\n",
    "            \"year\",\n",
    "            Pipeline([\n",
    "                (\"Scaler\", StandardScaler())\n",
    "            ]),\n",
    "            [\"year\"]\n",
    "        ),\n",
    "        (\n",
    "            \"engineSize\",\n",
    "            Pipeline([\n",
    "                (\"Scaler\", StandardScaler())\n",
    "            ]),\n",
    "            [\"engineSize\"]\n",
    "        ),\n",
    "        (\n",
    "            \"tax\",\n",
    "            Pipeline([\n",
    "                (\"Log1P\", FunctionTransformer(np.log1p)),\n",
    "                (\"Scaler\", StandardScaler())\n",
    "            ]),\n",
    "            [\"tax\"]\n",
    "        ),\n",
    "        (\n",
    "            \"mpg\",\n",
    "            Pipeline([\n",
    "                (\"Scaler\", StandardScaler())\n",
    "            ]),\n",
    "            [\"mpg\"]\n",
    "        )\n",
    "    ],\n",
    "    remainder=\"drop\"\n",
    ")\n"
   ]
  },
  {
   "cell_type": "code",
   "execution_count": null,
   "id": "e4ce8662",
   "metadata": {},
   "outputs": [],
   "source": []
  },
  {
   "cell_type": "code",
   "execution_count": null,
   "id": "862b87f8",
   "metadata": {},
   "outputs": [],
   "source": []
  },
  {
   "cell_type": "code",
   "execution_count": null,
   "id": "6ca7325c",
   "metadata": {},
   "outputs": [],
   "source": []
  },
  {
   "cell_type": "code",
   "execution_count": null,
   "id": "f92c5075",
   "metadata": {},
   "outputs": [],
   "source": []
  },
  {
   "cell_type": "code",
   "execution_count": null,
   "id": "babdfaa5",
   "metadata": {},
   "outputs": [],
   "source": []
  },
  {
   "cell_type": "code",
   "execution_count": null,
   "id": "45fe1232",
   "metadata": {},
   "outputs": [],
   "source": [
    "import pandas as pd\n",
    "import numpy as np\n",
    "\n",
    "from sklearn.impute import SimpleImputer\n",
    "from sklearn.compose import ColumnTransformer\n",
    "from sklearn.preprocessing import FunctionTransformer, StandardScaler, OneHotEncoder\n",
    "from sklearn.pipeline import Pipeline\n",
    "from xgboost import XGBRegressor\n",
    "\n",
    "from sklearn.metrics import mean_squared_error, mean_absolute_error\n",
    "\n",
    "import bentoml\n",
    "\n",
    "from datetime import datetime\n",
    "import os\n",
    "\n",
    "# Replace the categories with their corresponding frequencies\n",
    "# previously calculated\n",
    "MODEL_REPLACE_RULES = {\n",
    "    'Focus': 7.4e-05,\n",
    "    ' Ranger': 7.4e-05,\n",
    "    ' Transit Tourneo': 7.4e-05,\n",
    "    ' Escort': 7.4e-05,\n",
    "    ' Streetka': 0.000148,\n",
    "    ' Fusion': 0.000891,\n",
    "    ' Tourneo Connect': 0.002004,\n",
    "    ' Mustang': 0.003414,\n",
    "    ' Tourneo Custom': 0.003637,\n",
    "    ' Grand Tourneo Connect': 0.003637,\n",
    "    ' Puma': 0.004527,\n",
    "    ' KA': 0.01091,\n",
    "    ' Edge': 0.011578,\n",
    "    ' Galaxy': 0.012097,\n",
    "    ' Grand C-MAX': 0.012765,\n",
    "    ' S-MAX': 0.016328,\n",
    "    ' B-MAX': 0.018703,\n",
    "    ' C-MAX': 0.029761,\n",
    "    ' Ka+': 0.030058,\n",
    "    ' Mondeo': 0.030503,\n",
    "    ' EcoSport': 0.063307,\n",
    "    ' Kuga': 0.124091,\n",
    "    ' Focus': 0.254861,\n",
    "    ' Fiesta': 0.366558,\n",
    "    'Other': 0\n",
    "}\n",
    "\n",
    "DROP_FUEL_TYPE = [\"Electric\", \"Hybrid\"]\n",
    "\n",
    "if __name__ == \"__main__\":\n",
    "    # read test data from csv file ford_test.csv\n",
    "    TRAIN_PATH = os.path.join(os.path.dirname(__file__), \"data/ford_train.csv\")\n",
    "    TEST_PATH = os.path.join(os.path.dirname(__file__), \"data/ford_test.csv\")\n",
    "\n",
    "    ford_df = pd.read_csv(TRAIN_PATH)\n",
    "\n",
    "    # Define the transformer pipeline for the dataframe\n",
    "    feature_eng_tfm = ColumnTransformer(\n",
    "        [\n",
    "            (\n",
    "                \"Mileage\",\n",
    "                Pipeline([\n",
    "                    (\"Log1P\", FunctionTransformer(np.log1p)),\n",
    "                    (\"Scaler\", StandardScaler())\n",
    "                ]),\n",
    "                [\"mileage\"]\n",
    "            ),\n",
    "            (\n",
    "                \"transmission\",\n",
    "                OneHotEncoder(\n",
    "                    handle_unknown=\"ignore\",\n",
    "                    sparse=False\n",
    "                ),\n",
    "                [\"transmission\"]\n",
    "            ),\n",
    "            (\n",
    "                \"fuelType\",\n",
    "                # Replace the fuelType \"Electric\" or \"Hybrid\" with \"other\"\n",
    "                # and OneHotEncoder will ignore it.\n",
    "                # This is a small trick to implement the frequency encoder\n",
    "                Pipeline(\n",
    "                    [\n",
    "                        (\n",
    "                            f\"inputer_{d}\",\n",
    "                            SimpleImputer(\n",
    "                                missing_values=d,\n",
    "                                strategy=\"constant\",\n",
    "                                fill_value=\"other\"\n",
    "                            )\n",
    "                        )\n",
    "                        for d in DROP_FUEL_TYPE\n",
    "                    ]+[\n",
    "                        (\n",
    "                            \"OneHotEncoder\",\n",
    "                            OneHotEncoder(\n",
    "                                handle_unknown=\"ignore\",\n",
    "                                sparse=False\n",
    "                            ),\n",
    "                        )\n",
    "                    ]\n",
    "                ),\n",
    "                [\"fuelType\"]\n",
    "            ),\n",
    "            (\n",
    "                \"model\",\n",
    "                # replace model with the corresponding frequency in MODEL_REPLACE_RULES\n",
    "                Pipeline(\n",
    "                    [\n",
    "                        (\n",
    "                            f\"inputer_{column_value}\",\n",
    "                            SimpleImputer(\n",
    "                                missing_values=column_value,\n",
    "                                strategy=\"constant\",\n",
    "                                fill_value=value\n",
    "                            )\n",
    "                        )\n",
    "                        for column_value, value\n",
    "                        in MODEL_REPLACE_RULES.items()\n",
    "                    ]\n",
    "                ),\n",
    "                [\"model\"]\n",
    "            ),\n",
    "            (\n",
    "                \"year\",\n",
    "                Pipeline([\n",
    "                    (\"Scaler\", StandardScaler())\n",
    "                ]),\n",
    "                [\"year\"]\n",
    "            ),\n",
    "            (\n",
    "                \"engineSize\",\n",
    "                Pipeline([\n",
    "                    (\"Scaler\", StandardScaler())\n",
    "                ]),\n",
    "                [\"engineSize\"]\n",
    "            ),\n",
    "            (\n",
    "                \"tax\",\n",
    "                Pipeline([\n",
    "                    (\"Log1P\", FunctionTransformer(np.log1p)),\n",
    "                    (\"Scaler\", StandardScaler())\n",
    "                ]),\n",
    "                [\"tax\"]\n",
    "            ),\n",
    "            (\n",
    "                \"mpg\",\n",
    "                Pipeline([\n",
    "                    (\"Scaler\", StandardScaler())\n",
    "                ]),\n",
    "                [\"mpg\"]\n",
    "            )\n",
    "        ],\n",
    "        remainder=\"drop\"\n",
    "    )\n",
    "\n",
    "    # Define the regressor model\n",
    "    xgb_reg = XGBRegressor(\n",
    "        max_depth=None,\n",
    "        n_estimators=100,\n",
    "        random_state=214,\n",
    "    )\n",
    "\n",
    "    ml_model = Pipeline([\n",
    "        (\"FeatureEngineering\", feature_eng_tfm),\n",
    "        (\"Regressor\", xgb_reg)\n",
    "    ])\n",
    "\n",
    "    # Train the model to predict the price of the car\n",
    "    print(f\"[{datetime.now()}] Training the model...\")\n",
    "\n",
    "    ml_model.fit(\n",
    "        ford_df.drop(columns=[\"price\"]),\n",
    "        ford_df[\"price\"]\n",
    "    )\n",
    "\n",
    "    print(f\"[{datetime.now()}] Saving the model...\")\n",
    "\n",
    "    # Model on Test Data\n",
    "    # MSE\n",
    "    print(f\"[{datetime.now()}] Calculating MSE on the test data...\")\n",
    "    ford_df_test = pd.read_csv(TEST_PATH)\n",
    "    y_pred = ml_model.predict(ford_df_test)\n",
    "    mse = mean_squared_error(ford_df_test[\"price\"], y_pred)\n",
    "    print(f\"[{datetime.now()}] MSE on the test data: {mse}\")\n",
    "    # MAE\n",
    "    mae = mean_absolute_error(ford_df_test[\"price\"], y_pred)\n",
    "    print(f\"[{datetime.now()}] MAE on the test data: {mae}\")\n",
    "\n",
    "    # Save the model to a bento service\n",
    "    model_id = bentoml.sklearn.save_model(\n",
    "        \"ford_price_predictor\",\n",
    "        ml_model\n",
    "    )\n",
    "\n",
    "    print(f\"[{datetime.now()}] Model - {ml_model}\")"
   ]
  },
  {
   "cell_type": "code",
   "execution_count": null,
   "id": "fcc4f18a",
   "metadata": {},
   "outputs": [],
   "source": []
  },
  {
   "cell_type": "code",
   "execution_count": null,
   "id": "c0f8d0e0",
   "metadata": {},
   "outputs": [],
   "source": []
  },
  {
   "cell_type": "code",
   "execution_count": null,
   "id": "ccdaaff4",
   "metadata": {},
   "outputs": [],
   "source": []
  },
  {
   "cell_type": "code",
   "execution_count": null,
   "id": "d65986e0",
   "metadata": {},
   "outputs": [],
   "source": []
  },
  {
   "cell_type": "code",
   "execution_count": null,
   "id": "e5936a88",
   "metadata": {},
   "outputs": [],
   "source": []
  },
  {
   "cell_type": "code",
   "execution_count": null,
   "id": "ca6eb1b9",
   "metadata": {},
   "outputs": [],
   "source": []
  }
 ],
 "metadata": {
  "kernelspec": {
   "display_name": "Python 3 (ipykernel)",
   "language": "python",
   "name": "python3"
  },
  "language_info": {
   "codemirror_mode": {
    "name": "ipython",
    "version": 3
   },
   "file_extension": ".py",
   "mimetype": "text/x-python",
   "name": "python",
   "nbconvert_exporter": "python",
   "pygments_lexer": "ipython3",
   "version": "3.9.12"
  }
 },
 "nbformat": 4,
 "nbformat_minor": 5
}
