{
 "cells": [
  {
   "cell_type": "code",
   "execution_count": 1,
   "id": "ed240002",
   "metadata": {},
   "outputs": [],
   "source": [
    "import os\n",
    "\n",
    "import pandas as pd\n",
    "import numpy as np\n",
    "\n",
    "from sklearn.impute import SimpleImputer\n",
    "from sklearn.compose import ColumnTransformer\n",
    "from sklearn.preprocessing import (\n",
    "    FunctionTransformer,\n",
    "    StandardScaler,\n",
    "    OneHotEncoder\n",
    ")\n",
    "from sklearn.pipeline import Pipeline\n",
    "from sklearn.metrics import mean_squared_error, mean_absolute_error\n",
    "from sklearn.model_selection import train_test_split\n",
    "from xgboost import XGBRegressor\n",
    "\n",
    "import bentoml"
   ]
  },
  {
   "cell_type": "code",
   "execution_count": null,
   "id": "31b2f8a7",
   "metadata": {},
   "outputs": [],
   "source": []
  },
  {
   "cell_type": "markdown",
   "id": "844ae5f3",
   "metadata": {},
   "source": [
    "## Split train / test data"
   ]
  },
  {
   "cell_type": "code",
   "execution_count": 2,
   "id": "8f08d976",
   "metadata": {},
   "outputs": [],
   "source": [
    "data = pd.read_csv(\"../data/ford.csv\")\n",
    "data[\"model\"] = data.model.str.strip(\" \")"
   ]
  },
  {
   "cell_type": "code",
   "execution_count": 3,
   "id": "116c9b72",
   "metadata": {},
   "outputs": [],
   "source": [
    "train_data, test_data = train_test_split(data, test_size=0.2, random_state=1234)\n",
    "train_data = train_data.reset_index(drop=True)\n",
    "test_data = test_data.reset_index(drop=True)"
   ]
  },
  {
   "cell_type": "code",
   "execution_count": 4,
   "id": "e87b7b33",
   "metadata": {},
   "outputs": [
    {
     "name": "stdout",
     "output_type": "stream",
     "text": [
      "Fiesta = 0.3647\n",
      "Focus = 0.2567\n",
      "Kuga = 0.1242\n",
      "EcoSport = 0.0626\n",
      "C-MAX = 0.0298\n",
      "Mondeo = 0.0294\n",
      "Ka+ = 0.0290\n",
      "B-MAX = 0.0195\n",
      "S-MAX = 0.0164\n",
      "Grand C-MAX = 0.0140\n",
      "Galaxy = 0.0128\n",
      "Edge = 0.0116\n",
      "KA = 0.0104\n",
      "Tourneo Custom = 0.0044\n",
      "Puma = 0.0043\n",
      "Grand Tourneo Connect = 0.0035\n",
      "Mustang = 0.0034\n",
      "Tourneo Connect = 0.0018\n",
      "Fusion = 0.0010\n",
      "Streetka = 0.0001\n",
      "Ranger = 0.0001\n",
      "Escort = 0.0001\n"
     ]
    }
   ],
   "source": [
    "\"\"\"\n",
    "Replace model categories with their corresponding frequencies in train data.\n",
    "- will be saved and used for serving?\n",
    "\"\"\"\n",
    "\n",
    "model_replace_rules = (train_data.model.value_counts() / len(train_data)).to_dict()\n",
    "for k, v in model_replace_rules.items():\n",
    "    print(f\"{k} = {v:0.4f}\")"
   ]
  },
  {
   "cell_type": "code",
   "execution_count": 5,
   "id": "d95d24e2",
   "metadata": {},
   "outputs": [
    {
     "data": {
      "text/plain": [
       "Petrol      9722\n",
       "Diesel      4628\n",
       "Hybrid        19\n",
       "Electric       2\n",
       "Other          1\n",
       "Name: fuelType, dtype: int64"
      ]
     },
     "execution_count": 5,
     "metadata": {},
     "output_type": "execute_result"
    }
   ],
   "source": [
    "\"\"\"\n",
    "We will replace fueltype not belongs to (\"Petrol\", \"Diesel\") with \"Others\".\n",
    "\"\"\"\n",
    "\n",
    "train_data.fuelType.value_counts()"
   ]
  },
  {
   "cell_type": "code",
   "execution_count": 6,
   "id": "f2e5b8e7",
   "metadata": {},
   "outputs": [
    {
     "data": {
      "text/plain": [
       "Manual       12392\n",
       "Automatic     1108\n",
       "Semi-Auto      872\n",
       "Name: transmission, dtype: int64"
      ]
     },
     "execution_count": 6,
     "metadata": {},
     "output_type": "execute_result"
    }
   ],
   "source": [
    "\"\"\"\n",
    "Use all these 3 classes.\n",
    "\"\"\"\n",
    "\n",
    "train_data.transmission.value_counts()"
   ]
  },
  {
   "cell_type": "code",
   "execution_count": null,
   "id": "6e2b0dc8",
   "metadata": {},
   "outputs": [],
   "source": []
  },
  {
   "cell_type": "code",
   "execution_count": null,
   "id": "3a51503c",
   "metadata": {},
   "outputs": [],
   "source": []
  },
  {
   "cell_type": "markdown",
   "id": "256cbc63",
   "metadata": {},
   "source": [
    "## Transformations for each column"
   ]
  },
  {
   "cell_type": "code",
   "execution_count": 7,
   "id": "d7287cae",
   "metadata": {},
   "outputs": [],
   "source": [
    "\"\"\"\n",
    "Input: mileage, tax\n",
    "Transform: log(1+x) => StandardScaler\n",
    "\"\"\"\n",
    "\n",
    "log_stdz_transf = Pipeline([\n",
    "    (\"Log1P\", FunctionTransformer(np.log1p)),\n",
    "    (\"Scaler\", StandardScaler())\n",
    "])"
   ]
  },
  {
   "cell_type": "code",
   "execution_count": 8,
   "id": "27eab575",
   "metadata": {},
   "outputs": [],
   "source": [
    "\"\"\"\n",
    "Input: transmission\n",
    "Transform: OneHotEncoder\n",
    "- handle_unknown = 'ignore' (encode data never has been observed to zeros)\n",
    "\"\"\"\n",
    "\n",
    "ts_transf = OneHotEncoder(handle_unknown=\"ignore\", sparse=False)"
   ]
  },
  {
   "cell_type": "code",
   "execution_count": 9,
   "id": "f4375461",
   "metadata": {},
   "outputs": [],
   "source": [
    "\"\"\"\n",
    "Input: fuelType\n",
    "Transform: ReplaceMinorClass => OneHotEncoder\n",
    "- ReplaceMinorClass: replace minor classes with \"Others\"\n",
    "\"\"\"\n",
    "\n",
    "def _replace_minor_fuel_type(x, **kwargs):\n",
    "    major_types = kwargs[\"major_types\"]\n",
    "    x = pd.DataFrame(x, columns=[\"fuelType\"]).copy()\n",
    "    x[~x.fuelType.isin(major_types)] = \"Others\"\n",
    "    return x.values\n",
    "\n",
    "\n",
    "fuel_type_transf = Pipeline([\n",
    "    (\n",
    "        \"Replacer\",\n",
    "        FunctionTransformer(\n",
    "            _replace_minor_fuel_type,\n",
    "            kw_args={\"major_types\": [\"Petrol\", \"Diesel\"]},\n",
    "        )\n",
    "    ),\n",
    "    (\"OneHotEncoder\", OneHotEncoder(handle_unknown=\"ignore\", sparse=False))\n",
    "])"
   ]
  },
  {
   "cell_type": "code",
   "execution_count": 10,
   "id": "0d97661c",
   "metadata": {},
   "outputs": [],
   "source": [
    "\"\"\"\n",
    "Input: model\n",
    "Transform: NumericConverter\n",
    "- NumericConverter: convert model to its corresponding frequencies in train data\n",
    "\"\"\"\n",
    "\n",
    "def _convert_model_to_numeric(x, **kwargs):\n",
    "    model_replace_rules = kwargs[\"model_replace_rules\"]\n",
    "    x = pd.DataFrame(x, columns=[\"model\"]).copy()\n",
    "    x[~x.model.isin(model_replace_rules.keys())] = 0.0\n",
    "    for k, v in model_replace_rules.items():\n",
    "        x[x == k] = v\n",
    "    return x.values.astype(\"float\")\n",
    "\n",
    "\n",
    "model_name_transf = FunctionTransformer(\n",
    "    _convert_model_to_numeric,\n",
    "    kw_args={\"model_replace_rules\": model_replace_rules},\n",
    ")"
   ]
  },
  {
   "cell_type": "code",
   "execution_count": 11,
   "id": "2b1b954c",
   "metadata": {},
   "outputs": [],
   "source": [
    "\"\"\"\n",
    "Input: year, mpg, engineSize\n",
    "Transform: StandardScaler()\n",
    "\"\"\"\n",
    "\n",
    "stdz_transf = StandardScaler()"
   ]
  },
  {
   "cell_type": "code",
   "execution_count": 12,
   "id": "b1ae85fd",
   "metadata": {},
   "outputs": [],
   "source": [
    "transformers = ColumnTransformer(\n",
    "    [\n",
    "        (\"LogStandardize\", log_stdz_transf, [\"mileage\", \"tax\"]),\n",
    "        (\"OneHot\", ts_transf, [\"transmission\"]),\n",
    "        (\"ReplaceOneHot\", fuel_type_transf, [\"fuelType\"]),\n",
    "        (\"StringToNumeric\", model_name_transf, [\"model\"]),\n",
    "        (\"Standardize\", stdz_transf, [\"year\", \"mpg\", \"engineSize\"]),    \n",
    "    ],\n",
    "    remainder=\"drop\",\n",
    "    n_jobs=1,\n",
    ")"
   ]
  },
  {
   "cell_type": "code",
   "execution_count": null,
   "id": "16b6836a",
   "metadata": {},
   "outputs": [],
   "source": []
  },
  {
   "cell_type": "code",
   "execution_count": null,
   "id": "bcea08de",
   "metadata": {},
   "outputs": [],
   "source": []
  },
  {
   "cell_type": "markdown",
   "id": "5bfa651f",
   "metadata": {},
   "source": [
    "## Build pipeline and fit regression model"
   ]
  },
  {
   "cell_type": "code",
   "execution_count": 13,
   "id": "9333d2ff",
   "metadata": {},
   "outputs": [],
   "source": [
    "model = XGBRegressor(\n",
    "    max_depth=None,\n",
    "    n_estimators=100,\n",
    "    random_state=214\n",
    ")"
   ]
  },
  {
   "cell_type": "code",
   "execution_count": 14,
   "id": "e5fd6e1c",
   "metadata": {},
   "outputs": [],
   "source": [
    "pipeline = Pipeline([\n",
    "    (\"FeatureEngineerring\", transformers),\n",
    "    (\"Regressorm\", model)\n",
    "])"
   ]
  },
  {
   "cell_type": "code",
   "execution_count": 15,
   "id": "113c365d",
   "metadata": {},
   "outputs": [],
   "source": [
    "X_train = train_data.drop(\"price\", axis=1)\n",
    "y_train = train_data[\"price\"].values\n",
    "\n",
    "X_test = test_data.drop(\"price\", axis=1)\n",
    "y_test = test_data[\"price\"].values"
   ]
  },
  {
   "cell_type": "code",
   "execution_count": 16,
   "id": "e562746f",
   "metadata": {},
   "outputs": [
    {
     "data": {
      "text/html": [
       "<style>#sk-container-id-1 {color: black;background-color: white;}#sk-container-id-1 pre{padding: 0;}#sk-container-id-1 div.sk-toggleable {background-color: white;}#sk-container-id-1 label.sk-toggleable__label {cursor: pointer;display: block;width: 100%;margin-bottom: 0;padding: 0.3em;box-sizing: border-box;text-align: center;}#sk-container-id-1 label.sk-toggleable__label-arrow:before {content: \"▸\";float: left;margin-right: 0.25em;color: #696969;}#sk-container-id-1 label.sk-toggleable__label-arrow:hover:before {color: black;}#sk-container-id-1 div.sk-estimator:hover label.sk-toggleable__label-arrow:before {color: black;}#sk-container-id-1 div.sk-toggleable__content {max-height: 0;max-width: 0;overflow: hidden;text-align: left;background-color: #f0f8ff;}#sk-container-id-1 div.sk-toggleable__content pre {margin: 0.2em;color: black;border-radius: 0.25em;background-color: #f0f8ff;}#sk-container-id-1 input.sk-toggleable__control:checked~div.sk-toggleable__content {max-height: 200px;max-width: 100%;overflow: auto;}#sk-container-id-1 input.sk-toggleable__control:checked~label.sk-toggleable__label-arrow:before {content: \"▾\";}#sk-container-id-1 div.sk-estimator input.sk-toggleable__control:checked~label.sk-toggleable__label {background-color: #d4ebff;}#sk-container-id-1 div.sk-label input.sk-toggleable__control:checked~label.sk-toggleable__label {background-color: #d4ebff;}#sk-container-id-1 input.sk-hidden--visually {border: 0;clip: rect(1px 1px 1px 1px);clip: rect(1px, 1px, 1px, 1px);height: 1px;margin: -1px;overflow: hidden;padding: 0;position: absolute;width: 1px;}#sk-container-id-1 div.sk-estimator {font-family: monospace;background-color: #f0f8ff;border: 1px dotted black;border-radius: 0.25em;box-sizing: border-box;margin-bottom: 0.5em;}#sk-container-id-1 div.sk-estimator:hover {background-color: #d4ebff;}#sk-container-id-1 div.sk-parallel-item::after {content: \"\";width: 100%;border-bottom: 1px solid gray;flex-grow: 1;}#sk-container-id-1 div.sk-label:hover label.sk-toggleable__label {background-color: #d4ebff;}#sk-container-id-1 div.sk-serial::before {content: \"\";position: absolute;border-left: 1px solid gray;box-sizing: border-box;top: 0;bottom: 0;left: 50%;z-index: 0;}#sk-container-id-1 div.sk-serial {display: flex;flex-direction: column;align-items: center;background-color: white;padding-right: 0.2em;padding-left: 0.2em;position: relative;}#sk-container-id-1 div.sk-item {position: relative;z-index: 1;}#sk-container-id-1 div.sk-parallel {display: flex;align-items: stretch;justify-content: center;background-color: white;position: relative;}#sk-container-id-1 div.sk-item::before, #sk-container-id-1 div.sk-parallel-item::before {content: \"\";position: absolute;border-left: 1px solid gray;box-sizing: border-box;top: 0;bottom: 0;left: 50%;z-index: -1;}#sk-container-id-1 div.sk-parallel-item {display: flex;flex-direction: column;z-index: 1;position: relative;background-color: white;}#sk-container-id-1 div.sk-parallel-item:first-child::after {align-self: flex-end;width: 50%;}#sk-container-id-1 div.sk-parallel-item:last-child::after {align-self: flex-start;width: 50%;}#sk-container-id-1 div.sk-parallel-item:only-child::after {width: 0;}#sk-container-id-1 div.sk-dashed-wrapped {border: 1px dashed gray;margin: 0 0.4em 0.5em 0.4em;box-sizing: border-box;padding-bottom: 0.4em;background-color: white;}#sk-container-id-1 div.sk-label label {font-family: monospace;font-weight: bold;display: inline-block;line-height: 1.2em;}#sk-container-id-1 div.sk-label-container {text-align: center;}#sk-container-id-1 div.sk-container {/* jupyter's `normalize.less` sets `[hidden] { display: none; }` but bootstrap.min.css set `[hidden] { display: none !important; }` so we also need the `!important` here to be able to override the default hidden behavior on the sphinx rendered scikit-learn.org. See: https://github.com/scikit-learn/scikit-learn/issues/21755 */display: inline-block !important;position: relative;}#sk-container-id-1 div.sk-text-repr-fallback {display: none;}</style><div id=\"sk-container-id-1\" class=\"sk-top-container\"><div class=\"sk-text-repr-fallback\"><pre>Pipeline(steps=[(&#x27;FeatureEngineerring&#x27;,\n",
       "                 ColumnTransformer(transformers=[(&#x27;LogStandardize&#x27;,\n",
       "                                                  Pipeline(steps=[(&#x27;Log1P&#x27;,\n",
       "                                                                   FunctionTransformer(func=&lt;ufunc &#x27;log1p&#x27;&gt;)),\n",
       "                                                                  (&#x27;Scaler&#x27;,\n",
       "                                                                   StandardScaler())]),\n",
       "                                                  [&#x27;mileage&#x27;, &#x27;tax&#x27;]),\n",
       "                                                 (&#x27;OneHot&#x27;,\n",
       "                                                  OneHotEncoder(handle_unknown=&#x27;ignore&#x27;,\n",
       "                                                                sparse=False),\n",
       "                                                  [&#x27;transmission&#x27;]),\n",
       "                                                 (&#x27;ReplaceOneHot&#x27;,\n",
       "                                                  Pipeline(steps=[(&#x27;Replacer&#x27;,\n",
       "                                                                   FunctionTransformer(...\n",
       "                              gamma=0, gpu_id=-1, grow_policy=&#x27;depthwise&#x27;,\n",
       "                              importance_type=None, interaction_constraints=&#x27;&#x27;,\n",
       "                              learning_rate=0.300000012, max_bin=256,\n",
       "                              max_cat_to_onehot=4, max_delta_step=0,\n",
       "                              max_depth=6, max_leaves=0, min_child_weight=1,\n",
       "                              missing=nan, monotone_constraints=&#x27;()&#x27;,\n",
       "                              n_estimators=100, n_jobs=0, num_parallel_tree=1,\n",
       "                              predictor=&#x27;auto&#x27;, random_state=214, reg_alpha=0,\n",
       "                              reg_lambda=1, ...))])</pre><b>In a Jupyter environment, please rerun this cell to show the HTML representation or trust the notebook. <br />On GitHub, the HTML representation is unable to render, please try loading this page with nbviewer.org.</b></div><div class=\"sk-container\" hidden><div class=\"sk-item sk-dashed-wrapped\"><div class=\"sk-label-container\"><div class=\"sk-label sk-toggleable\"><input class=\"sk-toggleable__control sk-hidden--visually\" id=\"sk-estimator-id-1\" type=\"checkbox\" ><label for=\"sk-estimator-id-1\" class=\"sk-toggleable__label sk-toggleable__label-arrow\">Pipeline</label><div class=\"sk-toggleable__content\"><pre>Pipeline(steps=[(&#x27;FeatureEngineerring&#x27;,\n",
       "                 ColumnTransformer(transformers=[(&#x27;LogStandardize&#x27;,\n",
       "                                                  Pipeline(steps=[(&#x27;Log1P&#x27;,\n",
       "                                                                   FunctionTransformer(func=&lt;ufunc &#x27;log1p&#x27;&gt;)),\n",
       "                                                                  (&#x27;Scaler&#x27;,\n",
       "                                                                   StandardScaler())]),\n",
       "                                                  [&#x27;mileage&#x27;, &#x27;tax&#x27;]),\n",
       "                                                 (&#x27;OneHot&#x27;,\n",
       "                                                  OneHotEncoder(handle_unknown=&#x27;ignore&#x27;,\n",
       "                                                                sparse=False),\n",
       "                                                  [&#x27;transmission&#x27;]),\n",
       "                                                 (&#x27;ReplaceOneHot&#x27;,\n",
       "                                                  Pipeline(steps=[(&#x27;Replacer&#x27;,\n",
       "                                                                   FunctionTransformer(...\n",
       "                              gamma=0, gpu_id=-1, grow_policy=&#x27;depthwise&#x27;,\n",
       "                              importance_type=None, interaction_constraints=&#x27;&#x27;,\n",
       "                              learning_rate=0.300000012, max_bin=256,\n",
       "                              max_cat_to_onehot=4, max_delta_step=0,\n",
       "                              max_depth=6, max_leaves=0, min_child_weight=1,\n",
       "                              missing=nan, monotone_constraints=&#x27;()&#x27;,\n",
       "                              n_estimators=100, n_jobs=0, num_parallel_tree=1,\n",
       "                              predictor=&#x27;auto&#x27;, random_state=214, reg_alpha=0,\n",
       "                              reg_lambda=1, ...))])</pre></div></div></div><div class=\"sk-serial\"><div class=\"sk-item sk-dashed-wrapped\"><div class=\"sk-label-container\"><div class=\"sk-label sk-toggleable\"><input class=\"sk-toggleable__control sk-hidden--visually\" id=\"sk-estimator-id-2\" type=\"checkbox\" ><label for=\"sk-estimator-id-2\" class=\"sk-toggleable__label sk-toggleable__label-arrow\">FeatureEngineerring: ColumnTransformer</label><div class=\"sk-toggleable__content\"><pre>ColumnTransformer(transformers=[(&#x27;LogStandardize&#x27;,\n",
       "                                 Pipeline(steps=[(&#x27;Log1P&#x27;,\n",
       "                                                  FunctionTransformer(func=&lt;ufunc &#x27;log1p&#x27;&gt;)),\n",
       "                                                 (&#x27;Scaler&#x27;, StandardScaler())]),\n",
       "                                 [&#x27;mileage&#x27;, &#x27;tax&#x27;]),\n",
       "                                (&#x27;OneHot&#x27;,\n",
       "                                 OneHotEncoder(handle_unknown=&#x27;ignore&#x27;,\n",
       "                                               sparse=False),\n",
       "                                 [&#x27;transmission&#x27;]),\n",
       "                                (&#x27;ReplaceOneHot&#x27;,\n",
       "                                 Pipeline(steps=[(&#x27;Replacer&#x27;,\n",
       "                                                  FunctionTransformer(func=&lt;function _replace_minor_fuel_type a...\n",
       "                                                                                      &#x27;Kuga&#x27;: 0.12419983300862789,\n",
       "                                                                                      &#x27;Mondeo&#x27;: 0.029432229334817702,\n",
       "                                                                                      &#x27;Mustang&#x27;: 0.0034094071806290006,\n",
       "                                                                                      &#x27;Puma&#x27;: 0.004313943779571389,\n",
       "                                                                                      &#x27;Ranger&#x27;: 6.957973838018369e-05,\n",
       "                                                                                      &#x27;S-MAX&#x27;: 0.01642081825772335,\n",
       "                                                                                      &#x27;Streetka&#x27;: 0.00013915947676036738,\n",
       "                                                                                      &#x27;Tourneo Connect&#x27;: 0.0018090731978847759,\n",
       "                                                                                      &#x27;Tourneo Custom&#x27;: 0.0043835235179515725}}),\n",
       "                                 [&#x27;model&#x27;]),\n",
       "                                (&#x27;Standardize&#x27;, StandardScaler(),\n",
       "                                 [&#x27;year&#x27;, &#x27;mpg&#x27;, &#x27;engineSize&#x27;])])</pre></div></div></div><div class=\"sk-parallel\"><div class=\"sk-parallel-item\"><div class=\"sk-item\"><div class=\"sk-label-container\"><div class=\"sk-label sk-toggleable\"><input class=\"sk-toggleable__control sk-hidden--visually\" id=\"sk-estimator-id-3\" type=\"checkbox\" ><label for=\"sk-estimator-id-3\" class=\"sk-toggleable__label sk-toggleable__label-arrow\">LogStandardize</label><div class=\"sk-toggleable__content\"><pre>[&#x27;mileage&#x27;, &#x27;tax&#x27;]</pre></div></div></div><div class=\"sk-serial\"><div class=\"sk-item\"><div class=\"sk-serial\"><div class=\"sk-item\"><div class=\"sk-estimator sk-toggleable\"><input class=\"sk-toggleable__control sk-hidden--visually\" id=\"sk-estimator-id-4\" type=\"checkbox\" ><label for=\"sk-estimator-id-4\" class=\"sk-toggleable__label sk-toggleable__label-arrow\">FunctionTransformer</label><div class=\"sk-toggleable__content\"><pre>FunctionTransformer(func=&lt;ufunc &#x27;log1p&#x27;&gt;)</pre></div></div></div><div class=\"sk-item\"><div class=\"sk-estimator sk-toggleable\"><input class=\"sk-toggleable__control sk-hidden--visually\" id=\"sk-estimator-id-5\" type=\"checkbox\" ><label for=\"sk-estimator-id-5\" class=\"sk-toggleable__label sk-toggleable__label-arrow\">StandardScaler</label><div class=\"sk-toggleable__content\"><pre>StandardScaler()</pre></div></div></div></div></div></div></div></div><div class=\"sk-parallel-item\"><div class=\"sk-item\"><div class=\"sk-label-container\"><div class=\"sk-label sk-toggleable\"><input class=\"sk-toggleable__control sk-hidden--visually\" id=\"sk-estimator-id-6\" type=\"checkbox\" ><label for=\"sk-estimator-id-6\" class=\"sk-toggleable__label sk-toggleable__label-arrow\">OneHot</label><div class=\"sk-toggleable__content\"><pre>[&#x27;transmission&#x27;]</pre></div></div></div><div class=\"sk-serial\"><div class=\"sk-item\"><div class=\"sk-estimator sk-toggleable\"><input class=\"sk-toggleable__control sk-hidden--visually\" id=\"sk-estimator-id-7\" type=\"checkbox\" ><label for=\"sk-estimator-id-7\" class=\"sk-toggleable__label sk-toggleable__label-arrow\">OneHotEncoder</label><div class=\"sk-toggleable__content\"><pre>OneHotEncoder(handle_unknown=&#x27;ignore&#x27;, sparse=False)</pre></div></div></div></div></div></div><div class=\"sk-parallel-item\"><div class=\"sk-item\"><div class=\"sk-label-container\"><div class=\"sk-label sk-toggleable\"><input class=\"sk-toggleable__control sk-hidden--visually\" id=\"sk-estimator-id-8\" type=\"checkbox\" ><label for=\"sk-estimator-id-8\" class=\"sk-toggleable__label sk-toggleable__label-arrow\">ReplaceOneHot</label><div class=\"sk-toggleable__content\"><pre>[&#x27;fuelType&#x27;]</pre></div></div></div><div class=\"sk-serial\"><div class=\"sk-item\"><div class=\"sk-serial\"><div class=\"sk-item\"><div class=\"sk-estimator sk-toggleable\"><input class=\"sk-toggleable__control sk-hidden--visually\" id=\"sk-estimator-id-9\" type=\"checkbox\" ><label for=\"sk-estimator-id-9\" class=\"sk-toggleable__label sk-toggleable__label-arrow\">FunctionTransformer</label><div class=\"sk-toggleable__content\"><pre>FunctionTransformer(func=&lt;function _replace_minor_fuel_type at 0x7f488abd4c10&gt;,\n",
       "                    kw_args={&#x27;major_types&#x27;: [&#x27;Petrol&#x27;, &#x27;Diesel&#x27;]})</pre></div></div></div><div class=\"sk-item\"><div class=\"sk-estimator sk-toggleable\"><input class=\"sk-toggleable__control sk-hidden--visually\" id=\"sk-estimator-id-10\" type=\"checkbox\" ><label for=\"sk-estimator-id-10\" class=\"sk-toggleable__label sk-toggleable__label-arrow\">OneHotEncoder</label><div class=\"sk-toggleable__content\"><pre>OneHotEncoder(handle_unknown=&#x27;ignore&#x27;, sparse=False)</pre></div></div></div></div></div></div></div></div><div class=\"sk-parallel-item\"><div class=\"sk-item\"><div class=\"sk-label-container\"><div class=\"sk-label sk-toggleable\"><input class=\"sk-toggleable__control sk-hidden--visually\" id=\"sk-estimator-id-11\" type=\"checkbox\" ><label for=\"sk-estimator-id-11\" class=\"sk-toggleable__label sk-toggleable__label-arrow\">StringToNumeric</label><div class=\"sk-toggleable__content\"><pre>[&#x27;model&#x27;]</pre></div></div></div><div class=\"sk-serial\"><div class=\"sk-item\"><div class=\"sk-estimator sk-toggleable\"><input class=\"sk-toggleable__control sk-hidden--visually\" id=\"sk-estimator-id-12\" type=\"checkbox\" ><label for=\"sk-estimator-id-12\" class=\"sk-toggleable__label sk-toggleable__label-arrow\">FunctionTransformer</label><div class=\"sk-toggleable__content\"><pre>FunctionTransformer(func=&lt;function _convert_model_to_numeric at 0x7f488abd4dc0&gt;,\n",
       "                    kw_args={&#x27;model_replace_rules&#x27;: {&#x27;B-MAX&#x27;: 0.019482326746451433,\n",
       "                                                     &#x27;C-MAX&#x27;: 0.029849707765098803,\n",
       "                                                     &#x27;EcoSport&#x27;: 0.06255218480378513,\n",
       "                                                     &#x27;Edge&#x27;: 0.011619816309490676,\n",
       "                                                     &#x27;Escort&#x27;: 6.957973838018369e-05,\n",
       "                                                     &#x27;Fiesta&#x27;: 0.3647369885889229,\n",
       "                                                     &#x27;Focus&#x27;: 0.2567492346228778,\n",
       "                                                     &#x27;Fusion&#x27;: 0.0010436960757027553,\n",
       "                                                     &#x27;Galaxy...\n",
       "                                                     &#x27;Grand Tourneo Connect&#x27;: 0.003548566657389368,\n",
       "                                                     &#x27;KA&#x27;: 0.01036738101864737,\n",
       "                                                     &#x27;Ka+&#x27;: 0.029014750904536597,\n",
       "                                                     &#x27;Kuga&#x27;: 0.12419983300862789,\n",
       "                                                     &#x27;Mondeo&#x27;: 0.029432229334817702,\n",
       "                                                     &#x27;Mustang&#x27;: 0.0034094071806290006,\n",
       "                                                     &#x27;Puma&#x27;: 0.004313943779571389,\n",
       "                                                     &#x27;Ranger&#x27;: 6.957973838018369e-05,\n",
       "                                                     &#x27;S-MAX&#x27;: 0.01642081825772335,\n",
       "                                                     &#x27;Streetka&#x27;: 0.00013915947676036738,\n",
       "                                                     &#x27;Tourneo Connect&#x27;: 0.0018090731978847759,\n",
       "                                                     &#x27;Tourneo Custom&#x27;: 0.0043835235179515725}})</pre></div></div></div></div></div></div><div class=\"sk-parallel-item\"><div class=\"sk-item\"><div class=\"sk-label-container\"><div class=\"sk-label sk-toggleable\"><input class=\"sk-toggleable__control sk-hidden--visually\" id=\"sk-estimator-id-13\" type=\"checkbox\" ><label for=\"sk-estimator-id-13\" class=\"sk-toggleable__label sk-toggleable__label-arrow\">Standardize</label><div class=\"sk-toggleable__content\"><pre>[&#x27;year&#x27;, &#x27;mpg&#x27;, &#x27;engineSize&#x27;]</pre></div></div></div><div class=\"sk-serial\"><div class=\"sk-item\"><div class=\"sk-estimator sk-toggleable\"><input class=\"sk-toggleable__control sk-hidden--visually\" id=\"sk-estimator-id-14\" type=\"checkbox\" ><label for=\"sk-estimator-id-14\" class=\"sk-toggleable__label sk-toggleable__label-arrow\">StandardScaler</label><div class=\"sk-toggleable__content\"><pre>StandardScaler()</pre></div></div></div></div></div></div></div></div><div class=\"sk-item\"><div class=\"sk-estimator sk-toggleable\"><input class=\"sk-toggleable__control sk-hidden--visually\" id=\"sk-estimator-id-15\" type=\"checkbox\" ><label for=\"sk-estimator-id-15\" class=\"sk-toggleable__label sk-toggleable__label-arrow\">XGBRegressor</label><div class=\"sk-toggleable__content\"><pre>XGBRegressor(base_score=0.5, booster=&#x27;gbtree&#x27;, callbacks=None,\n",
       "             colsample_bylevel=1, colsample_bynode=1, colsample_bytree=1,\n",
       "             early_stopping_rounds=None, enable_categorical=False,\n",
       "             eval_metric=None, gamma=0, gpu_id=-1, grow_policy=&#x27;depthwise&#x27;,\n",
       "             importance_type=None, interaction_constraints=&#x27;&#x27;,\n",
       "             learning_rate=0.300000012, max_bin=256, max_cat_to_onehot=4,\n",
       "             max_delta_step=0, max_depth=6, max_leaves=0, min_child_weight=1,\n",
       "             missing=nan, monotone_constraints=&#x27;()&#x27;, n_estimators=100, n_jobs=0,\n",
       "             num_parallel_tree=1, predictor=&#x27;auto&#x27;, random_state=214,\n",
       "             reg_alpha=0, reg_lambda=1, ...)</pre></div></div></div></div></div></div></div>"
      ],
      "text/plain": [
       "Pipeline(steps=[('FeatureEngineerring',\n",
       "                 ColumnTransformer(transformers=[('LogStandardize',\n",
       "                                                  Pipeline(steps=[('Log1P',\n",
       "                                                                   FunctionTransformer(func=<ufunc 'log1p'>)),\n",
       "                                                                  ('Scaler',\n",
       "                                                                   StandardScaler())]),\n",
       "                                                  ['mileage', 'tax']),\n",
       "                                                 ('OneHot',\n",
       "                                                  OneHotEncoder(handle_unknown='ignore',\n",
       "                                                                sparse=False),\n",
       "                                                  ['transmission']),\n",
       "                                                 ('ReplaceOneHot',\n",
       "                                                  Pipeline(steps=[('Replacer',\n",
       "                                                                   FunctionTransformer(...\n",
       "                              gamma=0, gpu_id=-1, grow_policy='depthwise',\n",
       "                              importance_type=None, interaction_constraints='',\n",
       "                              learning_rate=0.300000012, max_bin=256,\n",
       "                              max_cat_to_onehot=4, max_delta_step=0,\n",
       "                              max_depth=6, max_leaves=0, min_child_weight=1,\n",
       "                              missing=nan, monotone_constraints='()',\n",
       "                              n_estimators=100, n_jobs=0, num_parallel_tree=1,\n",
       "                              predictor='auto', random_state=214, reg_alpha=0,\n",
       "                              reg_lambda=1, ...))])"
      ]
     },
     "execution_count": 16,
     "metadata": {},
     "output_type": "execute_result"
    }
   ],
   "source": [
    "pipeline.fit(X=X_train, y=y_train)"
   ]
  },
  {
   "cell_type": "code",
   "execution_count": null,
   "id": "61a784ce",
   "metadata": {},
   "outputs": [],
   "source": []
  },
  {
   "cell_type": "markdown",
   "id": "42da48d1",
   "metadata": {},
   "source": [
    "## Train / Test accuracies"
   ]
  },
  {
   "cell_type": "code",
   "execution_count": 17,
   "id": "604a4d9a",
   "metadata": {},
   "outputs": [],
   "source": [
    "pred_train = np.clip(pipeline.predict(train_data), a_min=0.0, a_max=np.infty)\n",
    "pred_test = np.clip(pipeline.predict(test_data), a_min=0.0, a_max=np.infty)"
   ]
  },
  {
   "cell_type": "code",
   "execution_count": 18,
   "id": "c7a56709",
   "metadata": {},
   "outputs": [],
   "source": [
    "def mean_absolute_percentile_error(y_true, y_pred):\n",
    "    y_true = np.squeeze(np.array(y_true))\n",
    "    y_pred = np.squeeze(np.array(y_pred))    \n",
    "    return np.nanmean(np.abs((y_true - y_pred) / y_true))"
   ]
  },
  {
   "cell_type": "code",
   "execution_count": 19,
   "id": "674ee942",
   "metadata": {},
   "outputs": [
    {
     "name": "stdout",
     "output_type": "stream",
     "text": [
      "Train RMSE (Euro): 867.03\n",
      "Train MAE (Euro): 643.81\n",
      "Train MAPE (%): 5.54\n",
      "Test RMSE (Euro): 1216.98\n",
      "Test MAE (Euro): 816.38\n",
      "Test MAPE (%): 7.21\n"
     ]
    }
   ],
   "source": [
    "print(f\"Train RMSE (Euro): {mean_squared_error(y_train, pred_train)**(1/2.):0.2f}\")\n",
    "print(f\"Train MAE (Euro): {mean_absolute_error(y_train, pred_train):0.2f}\")\n",
    "print(f\"Train MAPE (%): {mean_absolute_percentile_error(y_train, pred_train)*100:0.2f}\")\n",
    "\n",
    "print(f\"Test RMSE (Euro): {mean_squared_error(y_test, pred_test)**(1/2.):0.2f}\")\n",
    "print(f\"Test MAE (Euro): {mean_absolute_error(y_test, pred_test):0.2f}\")\n",
    "print(f\"Test MAPE (%): {mean_absolute_percentile_error(y_test, pred_test)*100:0.2f}\")"
   ]
  },
  {
   "cell_type": "code",
   "execution_count": null,
   "id": "5c557c69",
   "metadata": {},
   "outputs": [],
   "source": []
  },
  {
   "cell_type": "code",
   "execution_count": null,
   "id": "0f73872d",
   "metadata": {},
   "outputs": [],
   "source": []
  },
  {
   "cell_type": "markdown",
   "id": "41edfec3",
   "metadata": {},
   "source": [
    "## Save bentoml model"
   ]
  },
  {
   "cell_type": "code",
   "execution_count": 20,
   "id": "3fea5c03",
   "metadata": {},
   "outputs": [
    {
     "data": {
      "text/plain": [
       "Model(tag=\"ford_used_car_price:lv5ywatoeowusasc\", path=\"/opt/project/bentoml/models/ford_used_car_price/lv5ywatoeowusasc/\")"
      ]
     },
     "execution_count": 20,
     "metadata": {},
     "output_type": "execute_result"
    }
   ],
   "source": [
    "bentoml.sklearn.save_model(\n",
    "    name=\"ford_used_car_price\",\n",
    "    model=pipeline,\n",
    ")"
   ]
  },
  {
   "cell_type": "code",
   "execution_count": null,
   "id": "48e4e2ce",
   "metadata": {},
   "outputs": [],
   "source": []
  },
  {
   "cell_type": "code",
   "execution_count": null,
   "id": "5fa8d2a8",
   "metadata": {},
   "outputs": [],
   "source": []
  },
  {
   "cell_type": "code",
   "execution_count": null,
   "id": "6dd1426b",
   "metadata": {},
   "outputs": [],
   "source": []
  }
 ],
 "metadata": {
  "kernelspec": {
   "display_name": "Python 3 (ipykernel)",
   "language": "python",
   "name": "python3"
  },
  "language_info": {
   "codemirror_mode": {
    "name": "ipython",
    "version": 3
   },
   "file_extension": ".py",
   "mimetype": "text/x-python",
   "name": "python",
   "nbconvert_exporter": "python",
   "pygments_lexer": "ipython3",
   "version": "3.9.12"
  }
 },
 "nbformat": 4,
 "nbformat_minor": 5
}
