{
 "cells": [
  {
   "cell_type": "code",
   "execution_count": 1,
   "id": "e6afd08d",
   "metadata": {},
   "outputs": [
    {
     "name": "stdout",
     "output_type": "stream",
     "text": [
      "Collecting confluent_kafka\n",
      "  Downloading confluent_kafka-1.9.2-cp39-cp39-manylinux_2_17_x86_64.manylinux2014_x86_64.whl (3.1 MB)\n",
      "\u001b[K     |████████████████████████████████| 3.1 MB 21.2 MB/s eta 0:00:01\n",
      "\u001b[?25hInstalling collected packages: confluent-kafka\n",
      "Successfully installed confluent-kafka-1.9.2\n",
      "\u001b[33mWARNING: Running pip as the 'root' user can result in broken permissions and conflicting behaviour with the system package manager. It is recommended to use a virtual environment instead: https://pip.pypa.io/warnings/venv\u001b[0m\n"
     ]
    }
   ],
   "source": [
    "! pip install confluent_kafka"
   ]
  },
  {
   "cell_type": "code",
   "execution_count": 2,
   "id": "e002cb35",
   "metadata": {},
   "outputs": [],
   "source": [
    "import json\n",
    "import pprint\n",
    "\n",
    "import confluent_kafka as ck\n",
    "import requests\n",
    "import psycopg2\n",
    "import pandas as pd"
   ]
  },
  {
   "cell_type": "markdown",
   "id": "cc20c2d0",
   "metadata": {},
   "source": [
    "## Kafka settings"
   ]
  },
  {
   "cell_type": "code",
   "execution_count": 3,
   "id": "726519c4",
   "metadata": {},
   "outputs": [],
   "source": [
    "\"\"\"\n",
    "Create kafka consumer / producer instances\n",
    "\"\"\"\n",
    "\n",
    "consumer = ck.Consumer(\n",
    "    {\n",
    "        \"bootstrap.servers\": \"kafka:9092\",\n",
    "        \"group.id\": \"teste\",\n",
    "        \"auto.offset.reset\": \"earliest\",\n",
    "    }\n",
    ")\n",
    "\n",
    "producer = ck.Producer(\n",
    "    {\n",
    "        \"bootstrap.servers\": \"kafka:9092\",\n",
    "    }\n",
    ")"
   ]
  },
  {
   "cell_type": "code",
   "execution_count": 4,
   "id": "5eb77961",
   "metadata": {},
   "outputs": [],
   "source": [
    "# topics = consumer.list_topics()\n",
    "# pprint.pprint(topics.topics)"
   ]
  },
  {
   "cell_type": "code",
   "execution_count": null,
   "id": "f22f8c3d",
   "metadata": {},
   "outputs": [],
   "source": []
  },
  {
   "cell_type": "code",
   "execution_count": 28,
   "id": "b4d643e2",
   "metadata": {},
   "outputs": [],
   "source": [
    "\"\"\"\n",
    "Subscribe car price table\n",
    "- detect of table changes\n",
    "- we can use poll to get the events created for given timeout interval (1 seconeds for this example)\n",
    "\"\"\"\n",
    "\n",
    "consumer.subscribe([\"car_database.public.tbl_car_price\"])"
   ]
  },
  {
   "cell_type": "markdown",
   "id": "4e95e659",
   "metadata": {},
   "source": [
    "Create a new record in car database.\n",
    "\n",
    "```sql\n",
    "INSERT INTO\n",
    "    tbl_car_price\n",
    "(\n",
    "    MODEL,\n",
    "    YEAR,\n",
    "    TRANSMISSION,\n",
    "    MILEAGE,\n",
    "    FUEL_TYPE,\n",
    "    TAX,\n",
    "    MPG,\n",
    "    ENGINE_SIZE\n",
    ")\n",
    "VALUES\n",
    "(\n",
    "    'C-MAX',\n",
    "    2016,\n",
    "    'Manual',\n",
    "    5060,\n",
    "    'Diesel',\n",
    "    165,\n",
    "    45.2,\n",
    "    1.2\n",
    ");\n",
    "```"
   ]
  },
  {
   "cell_type": "code",
   "execution_count": 41,
   "id": "49cdb1cd",
   "metadata": {},
   "outputs": [],
   "source": [
    "msg = consumer.poll(1.0)"
   ]
  },
  {
   "cell_type": "code",
   "execution_count": 42,
   "id": "01879d1a",
   "metadata": {},
   "outputs": [
    {
     "name": "stdout",
     "output_type": "stream",
     "text": [
      "{'payload': {'engine_size': 1.2,\n",
      "             'fuel_type': 'Diesel',\n",
      "             'id': 5,\n",
      "             'mileage': 5060,\n",
      "             'model': 'C-MAX',\n",
      "             'mpg': 45.2,\n",
      "             'price': None,\n",
      "             'suggested_price': None,\n",
      "             'tax': 165,\n",
      "             'transmission': 'Manual',\n",
      "             'year': 2017},\n",
      " 'schema': {'fields': [{'default': 0,\n",
      "                        'field': 'id',\n",
      "                        'optional': False,\n",
      "                        'type': 'int32'},\n",
      "                       {'field': 'model', 'optional': True, 'type': 'string'},\n",
      "                       {'field': 'year', 'optional': True, 'type': 'int32'},\n",
      "                       {'field': 'price', 'optional': True, 'type': 'int32'},\n",
      "                       {'field': 'transmission',\n",
      "                        'optional': True,\n",
      "                        'type': 'string'},\n",
      "                       {'field': 'mileage', 'optional': True, 'type': 'int32'},\n",
      "                       {'field': 'fuel_type',\n",
      "                        'optional': True,\n",
      "                        'type': 'string'},\n",
      "                       {'field': 'tax', 'optional': True, 'type': 'int32'},\n",
      "                       {'field': 'mpg', 'optional': True, 'type': 'double'},\n",
      "                       {'field': 'engine_size',\n",
      "                        'optional': True,\n",
      "                        'type': 'double'},\n",
      "                       {'field': 'suggested_price',\n",
      "                        'optional': True,\n",
      "                        'type': 'int32'}],\n",
      "            'name': 'car_database.public.tbl_car_price.Value',\n",
      "            'optional': False,\n",
      "            'type': 'struct'}}\n"
     ]
    }
   ],
   "source": [
    "json_msg = json.loads(msg.value().decode(\"utf-8\"))\n",
    "pprint.pprint(json_msg)"
   ]
  },
  {
   "cell_type": "code",
   "execution_count": null,
   "id": "1c496a45",
   "metadata": {},
   "outputs": [],
   "source": []
  },
  {
   "cell_type": "code",
   "execution_count": null,
   "id": "bfc6cb91",
   "metadata": {},
   "outputs": [],
   "source": []
  },
  {
   "cell_type": "markdown",
   "id": "241f5b58",
   "metadata": {},
   "source": [
    "## Bentoml API request\n",
    "Before post data to the API server, don't forget to run `bento serve` in docker container with:\n",
    "```bash\n",
    "$ bentoml serve --host price_prediction_service --host 0.0.0.0 --port 3000 --production\n",
    "```"
   ]
  },
  {
   "cell_type": "code",
   "execution_count": 43,
   "id": "d0d50183",
   "metadata": {},
   "outputs": [],
   "source": [
    "FIELDS = {\n",
    "    \"model\": \"model\",\n",
    "    \"year\": \"year\",\n",
    "    \"transmission\": \"transmission\",\n",
    "    \"mileage\": \"mileage\",\n",
    "    \"fuel_type\": \"fuelType\",\n",
    "    \"tax\": \"tax\",\n",
    "    \"mpg\": \"mpg\",\n",
    "    \"engine_size\": \"engineSize\",\n",
    "}"
   ]
  },
  {
   "cell_type": "code",
   "execution_count": 44,
   "id": "d7bf5856",
   "metadata": {},
   "outputs": [
    {
     "name": "stdout",
     "output_type": "stream",
     "text": [
      "{'engineSize': [1.2],\n",
      " 'fuelType': ['Diesel'],\n",
      " 'mileage': [5060],\n",
      " 'model': ['C-MAX'],\n",
      " 'mpg': [45.2],\n",
      " 'tax': [165],\n",
      " 'transmission': ['Manual'],\n",
      " 'year': [2017]}\n"
     ]
    }
   ],
   "source": [
    "ml_inputs = {\n",
    "    api_col: [json_msg[\"payload\"][db_col]]\n",
    "    for db_col, api_col in FIELDS.items()\n",
    "}\n",
    "pprint.pprint(ml_inputs)"
   ]
  },
  {
   "cell_type": "code",
   "execution_count": 45,
   "id": "3b380f9d",
   "metadata": {},
   "outputs": [
    {
     "name": "stdout",
     "output_type": "stream",
     "text": [
      "status: 200\n",
      "output: [10200.7275390625]\n"
     ]
    }
   ],
   "source": [
    "\"\"\"\n",
    "Request the BentoML deoloyed server to predict the price\n",
    "\"\"\"\n",
    "\n",
    "endpoint = \"http://0.0.0.0:3000/predict\"\n",
    "response = requests.post(endpoint, json=ml_inputs)\n",
    "\n",
    "print(f\"status: {response.status_code}\")\n",
    "print(f\"output: {json.loads(response.text)}\")"
   ]
  },
  {
   "cell_type": "code",
   "execution_count": null,
   "id": "ac9982b8",
   "metadata": {},
   "outputs": [],
   "source": []
  },
  {
   "cell_type": "code",
   "execution_count": 46,
   "id": "f4fc07ce",
   "metadata": {},
   "outputs": [
    {
     "name": "stdout",
     "output_type": "stream",
     "text": [
      "{'engine_size': 1.2,\n",
      " 'fuel_type': 'Diesel',\n",
      " 'id': 5,\n",
      " 'mileage': 5060,\n",
      " 'model': 'C-MAX',\n",
      " 'mpg': 45.2,\n",
      " 'price': None,\n",
      " 'suggested_price': 10200.7275390625,\n",
      " 'tax': 165,\n",
      " 'transmission': 'Manual',\n",
      " 'year': 2017}\n"
     ]
    }
   ],
   "source": [
    "\"\"\"\n",
    "Append prediction result to the response we got from the consumer.\n",
    "\"\"\"\n",
    "\n",
    "json_msg[\"payload\"][\"suggested_price\"] = float(json.loads(response.text)[0])\n",
    "pprint.pprint(json_msg[\"payload\"])"
   ]
  },
  {
   "cell_type": "code",
   "execution_count": null,
   "id": "35feffd7",
   "metadata": {},
   "outputs": [],
   "source": []
  },
  {
   "cell_type": "markdown",
   "id": "081dabca",
   "metadata": {},
   "source": [
    "## Postgres DB status"
   ]
  },
  {
   "cell_type": "code",
   "execution_count": 47,
   "id": "1e27bfa2",
   "metadata": {},
   "outputs": [],
   "source": [
    "\"\"\"\n",
    "Check out current db status\n",
    "\"\"\"\n",
    "\n",
    "conn = psycopg2.connect(\n",
    "    host=\"postgres\",\n",
    "    port=\"5432\",\n",
    "    user=\"postgres\",\n",
    "    password=\"postgres\",\n",
    "    database=\"database\",\n",
    ")"
   ]
  },
  {
   "cell_type": "code",
   "execution_count": 48,
   "id": "91e251f7",
   "metadata": {},
   "outputs": [
    {
     "name": "stderr",
     "output_type": "stream",
     "text": [
      "/opt/conda/lib/python3.9/site-packages/pandas/io/sql.py:762: UserWarning: pandas only support SQLAlchemy connectable(engine/connection) ordatabase string URI or sqlite3 DBAPI2 connectionother DBAPI2 objects are not tested, please consider using SQLAlchemy\n",
      "  warnings.warn(\n"
     ]
    },
    {
     "data": {
      "text/html": [
       "<div>\n",
       "<style scoped>\n",
       "    .dataframe tbody tr th:only-of-type {\n",
       "        vertical-align: middle;\n",
       "    }\n",
       "\n",
       "    .dataframe tbody tr th {\n",
       "        vertical-align: top;\n",
       "    }\n",
       "\n",
       "    .dataframe thead th {\n",
       "        text-align: right;\n",
       "    }\n",
       "</style>\n",
       "<table border=\"1\" class=\"dataframe\">\n",
       "  <thead>\n",
       "    <tr style=\"text-align: right;\">\n",
       "      <th></th>\n",
       "      <th>id</th>\n",
       "      <th>model</th>\n",
       "      <th>year</th>\n",
       "      <th>price</th>\n",
       "      <th>transmission</th>\n",
       "      <th>mileage</th>\n",
       "      <th>fuel_type</th>\n",
       "      <th>tax</th>\n",
       "      <th>mpg</th>\n",
       "      <th>engine_size</th>\n",
       "      <th>suggested_price</th>\n",
       "    </tr>\n",
       "  </thead>\n",
       "  <tbody>\n",
       "    <tr>\n",
       "      <th>0</th>\n",
       "      <td>1</td>\n",
       "      <td>Fiesta</td>\n",
       "      <td>2017</td>\n",
       "      <td>None</td>\n",
       "      <td>Automatic</td>\n",
       "      <td>13000</td>\n",
       "      <td>Petrol</td>\n",
       "      <td>140</td>\n",
       "      <td>43.2</td>\n",
       "      <td>1.3</td>\n",
       "      <td>None</td>\n",
       "    </tr>\n",
       "    <tr>\n",
       "      <th>1</th>\n",
       "      <td>2</td>\n",
       "      <td>B-MAX</td>\n",
       "      <td>2020</td>\n",
       "      <td>None</td>\n",
       "      <td>Manual</td>\n",
       "      <td>4000</td>\n",
       "      <td>Diesel</td>\n",
       "      <td>100</td>\n",
       "      <td>57.4</td>\n",
       "      <td>1.5</td>\n",
       "      <td>None</td>\n",
       "    </tr>\n",
       "    <tr>\n",
       "      <th>2</th>\n",
       "      <td>3</td>\n",
       "      <td>C-MAX</td>\n",
       "      <td>2016</td>\n",
       "      <td>None</td>\n",
       "      <td>Manual</td>\n",
       "      <td>5060</td>\n",
       "      <td>Diesel</td>\n",
       "      <td>165</td>\n",
       "      <td>45.2</td>\n",
       "      <td>1.2</td>\n",
       "      <td>None</td>\n",
       "    </tr>\n",
       "    <tr>\n",
       "      <th>3</th>\n",
       "      <td>4</td>\n",
       "      <td>C-MAX</td>\n",
       "      <td>2016</td>\n",
       "      <td>None</td>\n",
       "      <td>Manual</td>\n",
       "      <td>5060</td>\n",
       "      <td>Diesel</td>\n",
       "      <td>165</td>\n",
       "      <td>45.2</td>\n",
       "      <td>1.2</td>\n",
       "      <td>None</td>\n",
       "    </tr>\n",
       "    <tr>\n",
       "      <th>4</th>\n",
       "      <td>5</td>\n",
       "      <td>C-MAX</td>\n",
       "      <td>2017</td>\n",
       "      <td>None</td>\n",
       "      <td>Manual</td>\n",
       "      <td>5060</td>\n",
       "      <td>Diesel</td>\n",
       "      <td>165</td>\n",
       "      <td>45.2</td>\n",
       "      <td>1.2</td>\n",
       "      <td>None</td>\n",
       "    </tr>\n",
       "    <tr>\n",
       "      <th>5</th>\n",
       "      <td>6</td>\n",
       "      <td>B-MAX</td>\n",
       "      <td>2020</td>\n",
       "      <td>None</td>\n",
       "      <td>Manual</td>\n",
       "      <td>4000</td>\n",
       "      <td>Diesel</td>\n",
       "      <td>100</td>\n",
       "      <td>57.4</td>\n",
       "      <td>2.0</td>\n",
       "      <td>None</td>\n",
       "    </tr>\n",
       "    <tr>\n",
       "      <th>6</th>\n",
       "      <td>7</td>\n",
       "      <td>C-MAX</td>\n",
       "      <td>2016</td>\n",
       "      <td>None</td>\n",
       "      <td>Manual</td>\n",
       "      <td>5060</td>\n",
       "      <td>Diesel</td>\n",
       "      <td>165</td>\n",
       "      <td>45.2</td>\n",
       "      <td>1.2</td>\n",
       "      <td>None</td>\n",
       "    </tr>\n",
       "    <tr>\n",
       "      <th>7</th>\n",
       "      <td>8</td>\n",
       "      <td>C-MAX</td>\n",
       "      <td>2016</td>\n",
       "      <td>None</td>\n",
       "      <td>Manual</td>\n",
       "      <td>5060</td>\n",
       "      <td>Diesel</td>\n",
       "      <td>165</td>\n",
       "      <td>45.2</td>\n",
       "      <td>1.2</td>\n",
       "      <td>None</td>\n",
       "    </tr>\n",
       "    <tr>\n",
       "      <th>8</th>\n",
       "      <td>9</td>\n",
       "      <td>C-MAX</td>\n",
       "      <td>2016</td>\n",
       "      <td>None</td>\n",
       "      <td>Manual</td>\n",
       "      <td>5060</td>\n",
       "      <td>Diesel</td>\n",
       "      <td>165</td>\n",
       "      <td>45.2</td>\n",
       "      <td>1.3</td>\n",
       "      <td>None</td>\n",
       "    </tr>\n",
       "  </tbody>\n",
       "</table>\n",
       "</div>"
      ],
      "text/plain": [
       "   id   model  year price transmission  mileage fuel_type  tax   mpg  \\\n",
       "0   1  Fiesta  2017  None    Automatic    13000    Petrol  140  43.2   \n",
       "1   2   B-MAX  2020  None       Manual     4000    Diesel  100  57.4   \n",
       "2   3   C-MAX  2016  None       Manual     5060    Diesel  165  45.2   \n",
       "3   4   C-MAX  2016  None       Manual     5060    Diesel  165  45.2   \n",
       "4   5   C-MAX  2017  None       Manual     5060    Diesel  165  45.2   \n",
       "5   6   B-MAX  2020  None       Manual     4000    Diesel  100  57.4   \n",
       "6   7   C-MAX  2016  None       Manual     5060    Diesel  165  45.2   \n",
       "7   8   C-MAX  2016  None       Manual     5060    Diesel  165  45.2   \n",
       "8   9   C-MAX  2016  None       Manual     5060    Diesel  165  45.2   \n",
       "\n",
       "   engine_size suggested_price  \n",
       "0          1.3            None  \n",
       "1          1.5            None  \n",
       "2          1.2            None  \n",
       "3          1.2            None  \n",
       "4          1.2            None  \n",
       "5          2.0            None  \n",
       "6          1.2            None  \n",
       "7          1.2            None  \n",
       "8          1.3            None  "
      ]
     },
     "execution_count": 48,
     "metadata": {},
     "output_type": "execute_result"
    }
   ],
   "source": [
    "pd.read_sql_query(\"select * from public.tbl_car_price\", conn)"
   ]
  },
  {
   "cell_type": "code",
   "execution_count": null,
   "id": "24b887df",
   "metadata": {},
   "outputs": [],
   "source": []
  },
  {
   "cell_type": "code",
   "execution_count": 49,
   "id": "3d09870b",
   "metadata": {},
   "outputs": [
    {
     "data": {
      "text/plain": [
       "0"
      ]
     },
     "execution_count": 49,
     "metadata": {},
     "output_type": "execute_result"
    }
   ],
   "source": [
    "\"\"\"\n",
    "Send the message to the topic with the predicted price\n",
    "\"\"\"\n",
    "\n",
    "producer.produce(\n",
    "    \"car_data_predicted\",\n",
    "    key=msg.key().decode(\"utf-8\"),\n",
    "    value=json.dumps(json_msg)\n",
    ")\n",
    "producer.flush(1)"
   ]
  },
  {
   "cell_type": "code",
   "execution_count": null,
   "id": "af628718",
   "metadata": {},
   "outputs": [],
   "source": []
  },
  {
   "cell_type": "code",
   "execution_count": 50,
   "id": "4c4c0a64",
   "metadata": {},
   "outputs": [
    {
     "name": "stderr",
     "output_type": "stream",
     "text": [
      "/opt/conda/lib/python3.9/site-packages/pandas/io/sql.py:762: UserWarning: pandas only support SQLAlchemy connectable(engine/connection) ordatabase string URI or sqlite3 DBAPI2 connectionother DBAPI2 objects are not tested, please consider using SQLAlchemy\n",
      "  warnings.warn(\n"
     ]
    },
    {
     "data": {
      "text/html": [
       "<div>\n",
       "<style scoped>\n",
       "    .dataframe tbody tr th:only-of-type {\n",
       "        vertical-align: middle;\n",
       "    }\n",
       "\n",
       "    .dataframe tbody tr th {\n",
       "        vertical-align: top;\n",
       "    }\n",
       "\n",
       "    .dataframe thead th {\n",
       "        text-align: right;\n",
       "    }\n",
       "</style>\n",
       "<table border=\"1\" class=\"dataframe\">\n",
       "  <thead>\n",
       "    <tr style=\"text-align: right;\">\n",
       "      <th></th>\n",
       "      <th>transmission</th>\n",
       "      <th>year</th>\n",
       "      <th>mpg</th>\n",
       "      <th>price</th>\n",
       "      <th>suggested_price</th>\n",
       "      <th>model</th>\n",
       "      <th>tax</th>\n",
       "      <th>engine_size</th>\n",
       "      <th>id</th>\n",
       "      <th>fuel_type</th>\n",
       "      <th>mileage</th>\n",
       "    </tr>\n",
       "  </thead>\n",
       "  <tbody>\n",
       "    <tr>\n",
       "      <th>0</th>\n",
       "      <td>Manual</td>\n",
       "      <td>2016</td>\n",
       "      <td>45.2</td>\n",
       "      <td>None</td>\n",
       "      <td>10369</td>\n",
       "      <td>C-MAX</td>\n",
       "      <td>165</td>\n",
       "      <td>1.2</td>\n",
       "      <td>3</td>\n",
       "      <td>Diesel</td>\n",
       "      <td>5060</td>\n",
       "    </tr>\n",
       "    <tr>\n",
       "      <th>1</th>\n",
       "      <td>Manual</td>\n",
       "      <td>2016</td>\n",
       "      <td>45.2</td>\n",
       "      <td>None</td>\n",
       "      <td>10369</td>\n",
       "      <td>C-MAX</td>\n",
       "      <td>165</td>\n",
       "      <td>1.2</td>\n",
       "      <td>4</td>\n",
       "      <td>Diesel</td>\n",
       "      <td>5060</td>\n",
       "    </tr>\n",
       "    <tr>\n",
       "      <th>2</th>\n",
       "      <td>Manual</td>\n",
       "      <td>2017</td>\n",
       "      <td>45.2</td>\n",
       "      <td>None</td>\n",
       "      <td>10200</td>\n",
       "      <td>C-MAX</td>\n",
       "      <td>165</td>\n",
       "      <td>1.2</td>\n",
       "      <td>5</td>\n",
       "      <td>Diesel</td>\n",
       "      <td>5060</td>\n",
       "    </tr>\n",
       "  </tbody>\n",
       "</table>\n",
       "</div>"
      ],
      "text/plain": [
       "  transmission  year   mpg price  suggested_price  model  tax  engine_size  \\\n",
       "0       Manual  2016  45.2  None            10369  C-MAX  165          1.2   \n",
       "1       Manual  2016  45.2  None            10369  C-MAX  165          1.2   \n",
       "2       Manual  2017  45.2  None            10200  C-MAX  165          1.2   \n",
       "\n",
       "   id fuel_type  mileage  \n",
       "0   3    Diesel     5060  \n",
       "1   4    Diesel     5060  \n",
       "2   5    Diesel     5060  "
      ]
     },
     "execution_count": 50,
     "metadata": {},
     "output_type": "execute_result"
    }
   ],
   "source": [
    "\"\"\"\n",
    "Now, the topic \"car_data_predicted\" is updated as you can see below\n",
    "\"\"\"\n",
    "\n",
    "pd.read_sql_query(\"select * from public.car_data_predicted\", conn)"
   ]
  },
  {
   "cell_type": "code",
   "execution_count": null,
   "id": "27c34cde",
   "metadata": {},
   "outputs": [],
   "source": []
  },
  {
   "cell_type": "code",
   "execution_count": 60,
   "id": "a5b8e1f3",
   "metadata": {},
   "outputs": [
    {
     "data": {
      "text/plain": [
       "bytes"
      ]
     },
     "execution_count": 60,
     "metadata": {},
     "output_type": "execute_result"
    }
   ],
   "source": [
    "type(msg.value())"
   ]
  },
  {
   "cell_type": "code",
   "execution_count": 62,
   "id": "d20d90b9",
   "metadata": {},
   "outputs": [
    {
     "data": {
      "text/plain": [
       "True"
      ]
     },
     "execution_count": 62,
     "metadata": {},
     "output_type": "execute_result"
    }
   ],
   "source": [
    "isinstance(b'dd', bytes)"
   ]
  },
  {
   "cell_type": "code",
   "execution_count": 66,
   "id": "4f01d539",
   "metadata": {},
   "outputs": [
    {
     "data": {
      "text/plain": [
       "'{\"schema\":{\"type\":\"struct\",\"fields\":[{\"type\":\"int32\",\"optional\":false,\"default\":0,\"field\":\"id\"},{\"type\":\"string\",\"optional\":true,\"field\":\"model\"},{\"type\":\"int32\",\"optional\":true,\"field\":\"year\"},{\"type\":\"int32\",\"optional\":true,\"field\":\"price\"},{\"type\":\"string\",\"optional\":true,\"field\":\"transmission\"},{\"type\":\"int32\",\"optional\":true,\"field\":\"mileage\"},{\"type\":\"string\",\"optional\":true,\"field\":\"fuel_type\"},{\"type\":\"int32\",\"optional\":true,\"field\":\"tax\"},{\"type\":\"double\",\"optional\":true,\"field\":\"mpg\"},{\"type\":\"double\",\"optional\":true,\"field\":\"engine_size\"},{\"type\":\"int32\",\"optional\":true,\"field\":\"suggested_price\"}],\"optional\":false,\"name\":\"car_database.public.tbl_car_price.Value\"},\"payload\":{\"id\":5,\"model\":\"C-MAX\",\"year\":2017,\"price\":null,\"transmission\":\"Manual\",\"mileage\":5060,\"fuel_type\":\"Diesel\",\"tax\":165,\"mpg\":45.2,\"engine_size\":1.2,\"suggested_price\":null}}'"
      ]
     },
     "execution_count": 66,
     "metadata": {},
     "output_type": "execute_result"
    }
   ],
   "source": [
    "msg.value().decode(\"utf-8\")"
   ]
  },
  {
   "cell_type": "code",
   "execution_count": 67,
   "id": "6c7c5ddf",
   "metadata": {},
   "outputs": [
    {
     "data": {
      "text/plain": [
       "'[10200.7275390625]'"
      ]
     },
     "execution_count": 67,
     "metadata": {},
     "output_type": "execute_result"
    }
   ],
   "source": [
    "response.text"
   ]
  },
  {
   "cell_type": "code",
   "execution_count": null,
   "id": "630f165d",
   "metadata": {},
   "outputs": [],
   "source": []
  },
  {
   "cell_type": "code",
   "execution_count": null,
   "id": "30569a86",
   "metadata": {},
   "outputs": [],
   "source": []
  }
 ],
 "metadata": {
  "kernelspec": {
   "display_name": "Python 3 (ipykernel)",
   "language": "python",
   "name": "python3"
  },
  "language_info": {
   "codemirror_mode": {
    "name": "ipython",
    "version": 3
   },
   "file_extension": ".py",
   "mimetype": "text/x-python",
   "name": "python",
   "nbconvert_exporter": "python",
   "pygments_lexer": "ipython3",
   "version": "3.9.12"
  }
 },
 "nbformat": 4,
 "nbformat_minor": 5
}
