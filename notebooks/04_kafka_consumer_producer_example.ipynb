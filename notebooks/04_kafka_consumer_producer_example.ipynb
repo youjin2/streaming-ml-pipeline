{
 "cells": [
  {
   "cell_type": "code",
   "execution_count": 2,
   "id": "e6afd08d",
   "metadata": {},
   "outputs": [
    {
     "name": "stdout",
     "output_type": "stream",
     "text": [
      "Collecting confluent_kafka\n",
      "  Downloading confluent_kafka-1.9.2-cp39-cp39-manylinux_2_17_x86_64.manylinux2014_x86_64.whl (3.1 MB)\n",
      "\u001b[K     |████████████████████████████████| 3.1 MB 11.4 MB/s eta 0:00:01\n",
      "\u001b[?25hInstalling collected packages: confluent-kafka\n",
      "Successfully installed confluent-kafka-1.9.2\n",
      "\u001b[33mWARNING: Running pip as the 'root' user can result in broken permissions and conflicting behaviour with the system package manager. It is recommended to use a virtual environment instead: https://pip.pypa.io/warnings/venv\u001b[0m\n"
     ]
    }
   ],
   "source": [
    "! pip install confluent_kafka"
   ]
  },
  {
   "cell_type": "code",
   "execution_count": 3,
   "id": "e002cb35",
   "metadata": {},
   "outputs": [],
   "source": [
    "import json\n",
    "import pprint\n",
    "\n",
    "import confluent_kafka as ck\n",
    "import requests"
   ]
  },
  {
   "cell_type": "code",
   "execution_count": 4,
   "id": "726519c4",
   "metadata": {},
   "outputs": [],
   "source": [
    "\"\"\"\n",
    "kafka consumer\n",
    "\"\"\"\n",
    "\n",
    "consumer = ck.Consumer(\n",
    "    {\n",
    "        \"bootstrap.servers\": \"kafka:9092\",\n",
    "        \"group.id\": \"teste\",\n",
    "        \"auto.offset.reset\": \"earliest\",\n",
    "    }\n",
    ")"
   ]
  },
  {
   "cell_type": "code",
   "execution_count": 6,
   "id": "5eb77961",
   "metadata": {},
   "outputs": [],
   "source": [
    "topics = consumer.list_topics()"
   ]
  },
  {
   "cell_type": "code",
   "execution_count": 33,
   "id": "606eff29",
   "metadata": {},
   "outputs": [
    {
     "name": "stdout",
     "output_type": "stream",
     "text": [
      "{'__consumer_offsets': TopicMetadata(__consumer_offsets, 50 partitions),\n",
      " '_connect_configs': TopicMetadata(_connect_configs, 1 partitions),\n",
      " '_connect_offsets': TopicMetadata(_connect_offsets, 25 partitions),\n",
      " '_source_connect_statuses': TopicMetadata(_source_connect_statuses, 5 partitions),\n",
      " 'car_data_predicted': TopicMetadata(car_data_predicted, 1 partitions),\n",
      " 'car_database.public.tbl_car_price': TopicMetadata(car_database.public.tbl_car_price, 1 partitions)}\n"
     ]
    }
   ],
   "source": [
    "pprint.pprint(topics.topics)"
   ]
  },
  {
   "cell_type": "code",
   "execution_count": null,
   "id": "f22f8c3d",
   "metadata": {},
   "outputs": [],
   "source": []
  },
  {
   "cell_type": "code",
   "execution_count": 16,
   "id": "b4d643e2",
   "metadata": {},
   "outputs": [],
   "source": [
    "\"\"\"\n",
    "subscribe car price table\n",
    "\"\"\"\n",
    "\n",
    "consumer.subscribe([\"car_database.public.tbl_car_price\"])"
   ]
  },
  {
   "cell_type": "code",
   "execution_count": 17,
   "id": "c5df95dc",
   "metadata": {},
   "outputs": [],
   "source": [
    "\"\"\"\n",
    "kafka producer\n",
    "\"\"\"\n",
    "\n",
    "producer = ck.Producer(\n",
    "    {\n",
    "        \"bootstrap.servers\": \"kafka:9092\",\n",
    "    }\n",
    ")"
   ]
  },
  {
   "cell_type": "code",
   "execution_count": 18,
   "id": "49cdb1cd",
   "metadata": {},
   "outputs": [],
   "source": [
    "msg = consumer.poll(1.0)"
   ]
  },
  {
   "cell_type": "code",
   "execution_count": 30,
   "id": "01879d1a",
   "metadata": {},
   "outputs": [
    {
     "name": "stdout",
     "output_type": "stream",
     "text": [
      "{'payload': {'engine_size': 1.5,\n",
      "             'fuel_type': 'Diesel',\n",
      "             'id': 3,\n",
      "             'mileage': 12000,\n",
      "             'model': 'B-MAX',\n",
      "             'mpg': 57.4,\n",
      "             'price': None,\n",
      "             'suggested_price': None,\n",
      "             'tax': 100,\n",
      "             'transmission': 'Manual',\n",
      "             'year': 2017},\n",
      " 'schema': {'fields': [{'default': 0,\n",
      "                        'field': 'id',\n",
      "                        'optional': False,\n",
      "                        'type': 'int32'},\n",
      "                       {'field': 'model', 'optional': True, 'type': 'string'},\n",
      "                       {'field': 'year', 'optional': True, 'type': 'int32'},\n",
      "                       {'field': 'price', 'optional': True, 'type': 'int32'},\n",
      "                       {'field': 'transmission',\n",
      "                        'optional': True,\n",
      "                        'type': 'string'},\n",
      "                       {'field': 'mileage', 'optional': True, 'type': 'int32'},\n",
      "                       {'field': 'fuel_type',\n",
      "                        'optional': True,\n",
      "                        'type': 'string'},\n",
      "                       {'field': 'tax', 'optional': True, 'type': 'int32'},\n",
      "                       {'field': 'mpg', 'optional': True, 'type': 'double'},\n",
      "                       {'field': 'engine_size',\n",
      "                        'optional': True,\n",
      "                        'type': 'double'},\n",
      "                       {'field': 'suggested_price',\n",
      "                        'optional': True,\n",
      "                        'type': 'int32'}],\n",
      "            'name': 'car_database.public.tbl_car_price.Value',\n",
      "            'optional': False,\n",
      "            'type': 'struct'}}\n"
     ]
    }
   ],
   "source": [
    "json_msg = json.loads(msg.value().decode(\"utf-8\"))\n",
    "pprint.pprint(json_msg)"
   ]
  },
  {
   "cell_type": "code",
   "execution_count": null,
   "id": "785b5396",
   "metadata": {},
   "outputs": [],
   "source": [
    "ml_inputs = "
   ]
  },
  {
   "cell_type": "code",
   "execution_count": null,
   "id": "f7af80ca",
   "metadata": {},
   "outputs": [],
   "source": [
    "jso"
   ]
  },
  {
   "cell_type": "code",
   "execution_count": 36,
   "id": "5edbe918",
   "metadata": {},
   "outputs": [
    {
     "data": {
      "text/plain": [
       "{'id': 3,\n",
       " 'model': 'B-MAX',\n",
       " 'year': 2017,\n",
       " 'price': None,\n",
       " 'transmission': 'Manual',\n",
       " 'mileage': 12000,\n",
       " 'fuel_type': 'Diesel',\n",
       " 'tax': 100,\n",
       " 'mpg': 57.4,\n",
       " 'engine_size': 1.5,\n",
       " 'suggested_price': None}"
      ]
     },
     "execution_count": 36,
     "metadata": {},
     "output_type": "execute_result"
    }
   ],
   "source": [
    "[k: v for k, v in json_msg[\"payload\"].items() if k in FIELDS]"
   ]
  },
  {
   "cell_type": "code",
   "execution_count": null,
   "id": "38bca798",
   "metadata": {},
   "outputs": [],
   "source": []
  },
  {
   "cell_type": "code",
   "execution_count": null,
   "id": "05d7a46b",
   "metadata": {},
   "outputs": [],
   "source": []
  },
  {
   "cell_type": "code",
   "execution_count": null,
   "id": "ec776cd2",
   "metadata": {},
   "outputs": [],
   "source": []
  },
  {
   "cell_type": "code",
   "execution_count": null,
   "id": "7f083295",
   "metadata": {},
   "outputs": [],
   "source": []
  },
  {
   "cell_type": "code",
   "execution_count": null,
   "id": "d20d90b9",
   "metadata": {},
   "outputs": [],
   "source": []
  },
  {
   "cell_type": "code",
   "execution_count": null,
   "id": "4f01d539",
   "metadata": {},
   "outputs": [],
   "source": []
  },
  {
   "cell_type": "code",
   "execution_count": null,
   "id": "30569a86",
   "metadata": {},
   "outputs": [],
   "source": []
  }
 ],
 "metadata": {
  "kernelspec": {
   "display_name": "Python 3 (ipykernel)",
   "language": "python",
   "name": "python3"
  },
  "language_info": {
   "codemirror_mode": {
    "name": "ipython",
    "version": 3
   },
   "file_extension": ".py",
   "mimetype": "text/x-python",
   "name": "python",
   "nbconvert_exporter": "python",
   "pygments_lexer": "ipython3",
   "version": "3.9.12"
  }
 },
 "nbformat": 4,
 "nbformat_minor": 5
}
